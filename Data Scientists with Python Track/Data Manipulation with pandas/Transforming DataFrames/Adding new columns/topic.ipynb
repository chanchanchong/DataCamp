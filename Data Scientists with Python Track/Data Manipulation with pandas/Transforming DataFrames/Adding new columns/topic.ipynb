{
 "cells": [
  {
   "cell_type": "markdown",
   "source": [
    "### Exercise\n",
    "## Adding new columns"
   ],
   "metadata": {
    "collapsed": false
   }
  },
  {
   "cell_type": "markdown",
   "source": [
    "You aren't stuck with just the data you are given. Instead, you can add new columns to a DataFrame. This has many names, such as *transforming*, *mutating*, and *feature engineering*.\n",
    "\n",
    "You can create new columns from scratch, but it is also common to derive them from other columns, for example, by adding columns together or by changing their units.\n",
    "\n",
    "`homelessness` is available and `pandas` is loaded as `pd`."
   ],
   "metadata": {
    "collapsed": false
   }
  },
  {
   "cell_type": "code",
   "execution_count": 2,
   "outputs": [
    {
     "data": {
      "text/plain": "               region       state  individuals  family_members  state_pop\n0  East South Central     Alabama       2570.0           864.0    4887681\n1             Pacific      Alaska       1434.0           582.0     735139\n2            Mountain     Arizona       7259.0          2606.0    7158024\n3  West South Central    Arkansas       2280.0           432.0    3009733\n4             Pacific  California     109008.0         20964.0   39461588",
      "text/html": "<div>\n<style scoped>\n    .dataframe tbody tr th:only-of-type {\n        vertical-align: middle;\n    }\n\n    .dataframe tbody tr th {\n        vertical-align: top;\n    }\n\n    .dataframe thead th {\n        text-align: right;\n    }\n</style>\n<table border=\"1\" class=\"dataframe\">\n  <thead>\n    <tr style=\"text-align: right;\">\n      <th></th>\n      <th>region</th>\n      <th>state</th>\n      <th>individuals</th>\n      <th>family_members</th>\n      <th>state_pop</th>\n    </tr>\n  </thead>\n  <tbody>\n    <tr>\n      <th>0</th>\n      <td>East South Central</td>\n      <td>Alabama</td>\n      <td>2570.0</td>\n      <td>864.0</td>\n      <td>4887681</td>\n    </tr>\n    <tr>\n      <th>1</th>\n      <td>Pacific</td>\n      <td>Alaska</td>\n      <td>1434.0</td>\n      <td>582.0</td>\n      <td>735139</td>\n    </tr>\n    <tr>\n      <th>2</th>\n      <td>Mountain</td>\n      <td>Arizona</td>\n      <td>7259.0</td>\n      <td>2606.0</td>\n      <td>7158024</td>\n    </tr>\n    <tr>\n      <th>3</th>\n      <td>West South Central</td>\n      <td>Arkansas</td>\n      <td>2280.0</td>\n      <td>432.0</td>\n      <td>3009733</td>\n    </tr>\n    <tr>\n      <th>4</th>\n      <td>Pacific</td>\n      <td>California</td>\n      <td>109008.0</td>\n      <td>20964.0</td>\n      <td>39461588</td>\n    </tr>\n  </tbody>\n</table>\n</div>"
     },
     "execution_count": 2,
     "metadata": {},
     "output_type": "execute_result"
    }
   ],
   "source": [
    "import pandas as pd\n",
    "homelessness = pd.read_csv('homelessness.csv', index_col=0)\n",
    "homelessness.head()"
   ],
   "metadata": {
    "collapsed": false,
    "pycharm": {
     "name": "#%%\n"
    }
   }
  },
  {
   "cell_type": "markdown",
   "source": [
    "## Instructions"
   ],
   "metadata": {
    "collapsed": false
   }
  },
  {
   "cell_type": "markdown",
   "source": [
    "* Adding a new column to `homelessnes`, named `total`, containing the sum of the `individuals` and `family_members` columns.\n",
    "* Add another column to `homelessness`, named `p_individuals`, containing the proportion of homeless people in each state who are individuals."
   ],
   "metadata": {
    "collapsed": false,
    "pycharm": {
     "name": "#%% md\n"
    }
   }
  },
  {
   "cell_type": "markdown",
   "source": [
    "Add total col as sum of individuals and family_members"
   ],
   "metadata": {
    "collapsed": false
   }
  },
  {
   "cell_type": "code",
   "execution_count": 3,
   "outputs": [
    {
     "data": {
      "text/plain": "0       3434.0\n1       2016.0\n2       9865.0\n3       2712.0\n4     129972.0\n5      10857.0\n6       3976.0\n7       1082.0\n8       6904.0\n9      31030.0\n10      9499.0\n11      6530.0\n12      2012.0\n13     10643.0\n14      5258.0\n15      2749.0\n16      2216.0\n17      3688.0\n18      3059.0\n19      2516.0\n20      7144.0\n21     20068.0\n22      8351.0\n23      7243.0\n24      1352.0\n25      5883.0\n26      1405.0\n27      2421.0\n28      7544.0\n29      1450.0\n30      9398.0\n31      2551.0\n32     91897.0\n33      9268.0\n34       542.0\n35     10249.0\n36      3871.0\n37     14476.0\n38     13512.0\n39      1101.0\n40      3933.0\n41      1159.0\n42      7883.0\n43     25310.0\n44      2876.0\n45      1291.0\n46      5975.0\n47     22304.0\n48      1243.0\n49      4907.0\n50       639.0\nName: total, dtype: float64"
     },
     "execution_count": 3,
     "metadata": {},
     "output_type": "execute_result"
    }
   ],
   "source": [
    "homelessness['total'] = homelessness['individuals'] + homelessness['family_members']\n",
    "homelessness['total']"
   ],
   "metadata": {
    "collapsed": false,
    "pycharm": {
     "name": "#%%\n"
    }
   }
  },
  {
   "cell_type": "markdown",
   "source": [
    "Add p_individuals col as proportion of individuals"
   ],
   "metadata": {
    "collapsed": false
   }
  },
  {
   "cell_type": "code",
   "execution_count": 5,
   "outputs": [
    {
     "data": {
      "text/plain": "0     0.748398\n1     0.711310\n2     0.735834\n3     0.840708\n4     0.838704\n5     0.700654\n6     0.573441\n7     0.654344\n8     0.546060\n9     0.691041\n10    0.730919\n11    0.632619\n12    0.644632\n13    0.634408\n14    0.718144\n15    0.622408\n16    0.651173\n17    0.741594\n18    0.830337\n19    0.576312\n20    0.687850\n21    0.339396\n22    0.623758\n23    0.551291\n24    0.757396\n25    0.641849\n26    0.699644\n27    0.720777\n28    0.935578\n29    0.575862\n30    0.643541\n31    0.764014\n32    0.433387\n33    0.696051\n34    0.861624\n35    0.676066\n36    0.729269\n37    0.769481\n38    0.604130\n39    0.678474\n40    0.783626\n41    0.721311\n42    0.778764\n43    0.758554\n44    0.662031\n45    0.604183\n46    0.657406\n47    0.736370\n48    0.821400\n49    0.558386\n50    0.679186\nName: p_individuals, dtype: float64"
     },
     "execution_count": 5,
     "metadata": {},
     "output_type": "execute_result"
    }
   ],
   "source": [
    "homelessness['p_individuals'] = homelessness['individuals'] / homelessness['total']\n",
    "homelessness['p_individuals']"
   ],
   "metadata": {
    "collapsed": false,
    "pycharm": {
     "name": "#%%\n"
    }
   }
  },
  {
   "cell_type": "markdown",
   "source": [
    "see the result"
   ],
   "metadata": {
    "collapsed": false,
    "pycharm": {
     "name": "#%% md\n"
    }
   }
  },
  {
   "cell_type": "code",
   "execution_count": null,
   "outputs": [],
   "source": [
    "print(homelessness)"
   ],
   "metadata": {
    "collapsed": false,
    "pycharm": {
     "name": "#%%\n"
    }
   }
  }
 ],
 "metadata": {
  "kernelspec": {
   "display_name": "Python 3",
   "language": "python",
   "name": "python3"
  },
  "language_info": {
   "codemirror_mode": {
    "name": "ipython",
    "version": 2
   },
   "file_extension": ".py",
   "mimetype": "text/x-python",
   "name": "python",
   "nbconvert_exporter": "python",
   "pygments_lexer": "ipython2",
   "version": "2.7.6"
  }
 },
 "nbformat": 4,
 "nbformat_minor": 0
}