{
 "cells": [
  {
   "cell_type": "markdown",
   "source": [
    "### Exercise\n",
    "## Combo-attack!"
   ],
   "metadata": {
    "collapsed": false
   }
  },
  {
   "cell_type": "markdown",
   "source": [
    "You've seen the four most common types of data manipulation: sorting rows, subsetting columns, subsetting rows, and adding new columns. In a real-life data analysis, you can mix and match these four manipulations to answer a multitude of questions.\n",
    "\n",
    "In this exercise, you'll answer the question, \"Which state has the highest number of homeless individuals per 10,000 people in the state?\" Combine your new `pandas` skills to find out."
   ],
   "metadata": {
    "collapsed": false
   }
  },
  {
   "cell_type": "markdown",
   "source": [
    "## Instructions\n",
    "* Add a column to 'homelessness', 'indiv_per_10k', containing the number of homeless individuals per ten thousand people in each state.\n",
    "* Subset rows where `indiv_per_10k` is higher than `20`, assigning to `high_homelessness`.\n",
    "* Sort `high_homelessness` by descending `indiv_per_10k`, assigning to `high_homelessness_srt.\n",
    "* Select only the `state` and `indiv_per_10k` columns of `high_homelessness_srt` and save as `result`. *Look at the `result`."
   ],
   "metadata": {
    "collapsed": false
   }
  },
  {
   "cell_type": "code",
   "execution_count": 2,
   "outputs": [
    {
     "data": {
      "text/plain": "                region                 state  individuals  family_members  \\\n0   East South Central               Alabama       2570.0           864.0   \n1              Pacific                Alaska       1434.0           582.0   \n2             Mountain               Arizona       7259.0          2606.0   \n3   West South Central              Arkansas       2280.0           432.0   \n4              Pacific            California     109008.0         20964.0   \n5             Mountain              Colorado       7607.0          3250.0   \n6          New England           Connecticut       2280.0          1696.0   \n7       South Atlantic              Delaware        708.0           374.0   \n8       South Atlantic  District of Columbia       3770.0          3134.0   \n9       South Atlantic               Florida      21443.0          9587.0   \n10      South Atlantic               Georgia       6943.0          2556.0   \n11             Pacific                Hawaii       4131.0          2399.0   \n12            Mountain                 Idaho       1297.0           715.0   \n13  East North Central              Illinois       6752.0          3891.0   \n14  East North Central               Indiana       3776.0          1482.0   \n15  West North Central                  Iowa       1711.0          1038.0   \n16  West North Central                Kansas       1443.0           773.0   \n17  East South Central              Kentucky       2735.0           953.0   \n18  West South Central             Louisiana       2540.0           519.0   \n19         New England                 Maine       1450.0          1066.0   \n20      South Atlantic              Maryland       4914.0          2230.0   \n21         New England         Massachusetts       6811.0         13257.0   \n22  East North Central              Michigan       5209.0          3142.0   \n23  West North Central             Minnesota       3993.0          3250.0   \n24  East South Central           Mississippi       1024.0           328.0   \n25  West North Central              Missouri       3776.0          2107.0   \n26            Mountain               Montana        983.0           422.0   \n27  West North Central              Nebraska       1745.0           676.0   \n28            Mountain                Nevada       7058.0           486.0   \n29         New England         New Hampshire        835.0           615.0   \n30        Mid-Atlantic            New Jersey       6048.0          3350.0   \n31            Mountain            New Mexico       1949.0           602.0   \n32        Mid-Atlantic              New York      39827.0         52070.0   \n33      South Atlantic        North Carolina       6451.0          2817.0   \n34  West North Central          North Dakota        467.0            75.0   \n35  East North Central                  Ohio       6929.0          3320.0   \n36  West South Central              Oklahoma       2823.0          1048.0   \n37             Pacific                Oregon      11139.0          3337.0   \n38        Mid-Atlantic          Pennsylvania       8163.0          5349.0   \n39         New England          Rhode Island        747.0           354.0   \n40      South Atlantic        South Carolina       3082.0           851.0   \n41  West North Central          South Dakota        836.0           323.0   \n42  East South Central             Tennessee       6139.0          1744.0   \n43  West South Central                 Texas      19199.0          6111.0   \n44            Mountain                  Utah       1904.0           972.0   \n45         New England               Vermont        780.0           511.0   \n46      South Atlantic              Virginia       3928.0          2047.0   \n47             Pacific            Washington      16424.0          5880.0   \n48      South Atlantic         West Virginia       1021.0           222.0   \n49  East North Central             Wisconsin       2740.0          2167.0   \n50            Mountain               Wyoming        434.0           205.0   \n\n    state_pop  \n0     4887681  \n1      735139  \n2     7158024  \n3     3009733  \n4    39461588  \n5     5691287  \n6     3571520  \n7      965479  \n8      701547  \n9    21244317  \n10   10511131  \n11    1420593  \n12    1750536  \n13   12723071  \n14    6695497  \n15    3148618  \n16    2911359  \n17    4461153  \n18    4659690  \n19    1339057  \n20    6035802  \n21    6882635  \n22    9984072  \n23    5606249  \n24    2981020  \n25    6121623  \n26    1060665  \n27    1925614  \n28    3027341  \n29    1353465  \n30    8886025  \n31    2092741  \n32   19530351  \n33   10381615  \n34     758080  \n35   11676341  \n36    3940235  \n37    4181886  \n38   12800922  \n39    1058287  \n40    5084156  \n41     878698  \n42    6771631  \n43   28628666  \n44    3153550  \n45     624358  \n46    8501286  \n47    7523869  \n48    1804291  \n49    5807406  \n50     577601  ",
      "text/html": "<div>\n<style scoped>\n    .dataframe tbody tr th:only-of-type {\n        vertical-align: middle;\n    }\n\n    .dataframe tbody tr th {\n        vertical-align: top;\n    }\n\n    .dataframe thead th {\n        text-align: right;\n    }\n</style>\n<table border=\"1\" class=\"dataframe\">\n  <thead>\n    <tr style=\"text-align: right;\">\n      <th></th>\n      <th>region</th>\n      <th>state</th>\n      <th>individuals</th>\n      <th>family_members</th>\n      <th>state_pop</th>\n    </tr>\n  </thead>\n  <tbody>\n    <tr>\n      <th>0</th>\n      <td>East South Central</td>\n      <td>Alabama</td>\n      <td>2570.0</td>\n      <td>864.0</td>\n      <td>4887681</td>\n    </tr>\n    <tr>\n      <th>1</th>\n      <td>Pacific</td>\n      <td>Alaska</td>\n      <td>1434.0</td>\n      <td>582.0</td>\n      <td>735139</td>\n    </tr>\n    <tr>\n      <th>2</th>\n      <td>Mountain</td>\n      <td>Arizona</td>\n      <td>7259.0</td>\n      <td>2606.0</td>\n      <td>7158024</td>\n    </tr>\n    <tr>\n      <th>3</th>\n      <td>West South Central</td>\n      <td>Arkansas</td>\n      <td>2280.0</td>\n      <td>432.0</td>\n      <td>3009733</td>\n    </tr>\n    <tr>\n      <th>4</th>\n      <td>Pacific</td>\n      <td>California</td>\n      <td>109008.0</td>\n      <td>20964.0</td>\n      <td>39461588</td>\n    </tr>\n    <tr>\n      <th>5</th>\n      <td>Mountain</td>\n      <td>Colorado</td>\n      <td>7607.0</td>\n      <td>3250.0</td>\n      <td>5691287</td>\n    </tr>\n    <tr>\n      <th>6</th>\n      <td>New England</td>\n      <td>Connecticut</td>\n      <td>2280.0</td>\n      <td>1696.0</td>\n      <td>3571520</td>\n    </tr>\n    <tr>\n      <th>7</th>\n      <td>South Atlantic</td>\n      <td>Delaware</td>\n      <td>708.0</td>\n      <td>374.0</td>\n      <td>965479</td>\n    </tr>\n    <tr>\n      <th>8</th>\n      <td>South Atlantic</td>\n      <td>District of Columbia</td>\n      <td>3770.0</td>\n      <td>3134.0</td>\n      <td>701547</td>\n    </tr>\n    <tr>\n      <th>9</th>\n      <td>South Atlantic</td>\n      <td>Florida</td>\n      <td>21443.0</td>\n      <td>9587.0</td>\n      <td>21244317</td>\n    </tr>\n    <tr>\n      <th>10</th>\n      <td>South Atlantic</td>\n      <td>Georgia</td>\n      <td>6943.0</td>\n      <td>2556.0</td>\n      <td>10511131</td>\n    </tr>\n    <tr>\n      <th>11</th>\n      <td>Pacific</td>\n      <td>Hawaii</td>\n      <td>4131.0</td>\n      <td>2399.0</td>\n      <td>1420593</td>\n    </tr>\n    <tr>\n      <th>12</th>\n      <td>Mountain</td>\n      <td>Idaho</td>\n      <td>1297.0</td>\n      <td>715.0</td>\n      <td>1750536</td>\n    </tr>\n    <tr>\n      <th>13</th>\n      <td>East North Central</td>\n      <td>Illinois</td>\n      <td>6752.0</td>\n      <td>3891.0</td>\n      <td>12723071</td>\n    </tr>\n    <tr>\n      <th>14</th>\n      <td>East North Central</td>\n      <td>Indiana</td>\n      <td>3776.0</td>\n      <td>1482.0</td>\n      <td>6695497</td>\n    </tr>\n    <tr>\n      <th>15</th>\n      <td>West North Central</td>\n      <td>Iowa</td>\n      <td>1711.0</td>\n      <td>1038.0</td>\n      <td>3148618</td>\n    </tr>\n    <tr>\n      <th>16</th>\n      <td>West North Central</td>\n      <td>Kansas</td>\n      <td>1443.0</td>\n      <td>773.0</td>\n      <td>2911359</td>\n    </tr>\n    <tr>\n      <th>17</th>\n      <td>East South Central</td>\n      <td>Kentucky</td>\n      <td>2735.0</td>\n      <td>953.0</td>\n      <td>4461153</td>\n    </tr>\n    <tr>\n      <th>18</th>\n      <td>West South Central</td>\n      <td>Louisiana</td>\n      <td>2540.0</td>\n      <td>519.0</td>\n      <td>4659690</td>\n    </tr>\n    <tr>\n      <th>19</th>\n      <td>New England</td>\n      <td>Maine</td>\n      <td>1450.0</td>\n      <td>1066.0</td>\n      <td>1339057</td>\n    </tr>\n    <tr>\n      <th>20</th>\n      <td>South Atlantic</td>\n      <td>Maryland</td>\n      <td>4914.0</td>\n      <td>2230.0</td>\n      <td>6035802</td>\n    </tr>\n    <tr>\n      <th>21</th>\n      <td>New England</td>\n      <td>Massachusetts</td>\n      <td>6811.0</td>\n      <td>13257.0</td>\n      <td>6882635</td>\n    </tr>\n    <tr>\n      <th>22</th>\n      <td>East North Central</td>\n      <td>Michigan</td>\n      <td>5209.0</td>\n      <td>3142.0</td>\n      <td>9984072</td>\n    </tr>\n    <tr>\n      <th>23</th>\n      <td>West North Central</td>\n      <td>Minnesota</td>\n      <td>3993.0</td>\n      <td>3250.0</td>\n      <td>5606249</td>\n    </tr>\n    <tr>\n      <th>24</th>\n      <td>East South Central</td>\n      <td>Mississippi</td>\n      <td>1024.0</td>\n      <td>328.0</td>\n      <td>2981020</td>\n    </tr>\n    <tr>\n      <th>25</th>\n      <td>West North Central</td>\n      <td>Missouri</td>\n      <td>3776.0</td>\n      <td>2107.0</td>\n      <td>6121623</td>\n    </tr>\n    <tr>\n      <th>26</th>\n      <td>Mountain</td>\n      <td>Montana</td>\n      <td>983.0</td>\n      <td>422.0</td>\n      <td>1060665</td>\n    </tr>\n    <tr>\n      <th>27</th>\n      <td>West North Central</td>\n      <td>Nebraska</td>\n      <td>1745.0</td>\n      <td>676.0</td>\n      <td>1925614</td>\n    </tr>\n    <tr>\n      <th>28</th>\n      <td>Mountain</td>\n      <td>Nevada</td>\n      <td>7058.0</td>\n      <td>486.0</td>\n      <td>3027341</td>\n    </tr>\n    <tr>\n      <th>29</th>\n      <td>New England</td>\n      <td>New Hampshire</td>\n      <td>835.0</td>\n      <td>615.0</td>\n      <td>1353465</td>\n    </tr>\n    <tr>\n      <th>30</th>\n      <td>Mid-Atlantic</td>\n      <td>New Jersey</td>\n      <td>6048.0</td>\n      <td>3350.0</td>\n      <td>8886025</td>\n    </tr>\n    <tr>\n      <th>31</th>\n      <td>Mountain</td>\n      <td>New Mexico</td>\n      <td>1949.0</td>\n      <td>602.0</td>\n      <td>2092741</td>\n    </tr>\n    <tr>\n      <th>32</th>\n      <td>Mid-Atlantic</td>\n      <td>New York</td>\n      <td>39827.0</td>\n      <td>52070.0</td>\n      <td>19530351</td>\n    </tr>\n    <tr>\n      <th>33</th>\n      <td>South Atlantic</td>\n      <td>North Carolina</td>\n      <td>6451.0</td>\n      <td>2817.0</td>\n      <td>10381615</td>\n    </tr>\n    <tr>\n      <th>34</th>\n      <td>West North Central</td>\n      <td>North Dakota</td>\n      <td>467.0</td>\n      <td>75.0</td>\n      <td>758080</td>\n    </tr>\n    <tr>\n      <th>35</th>\n      <td>East North Central</td>\n      <td>Ohio</td>\n      <td>6929.0</td>\n      <td>3320.0</td>\n      <td>11676341</td>\n    </tr>\n    <tr>\n      <th>36</th>\n      <td>West South Central</td>\n      <td>Oklahoma</td>\n      <td>2823.0</td>\n      <td>1048.0</td>\n      <td>3940235</td>\n    </tr>\n    <tr>\n      <th>37</th>\n      <td>Pacific</td>\n      <td>Oregon</td>\n      <td>11139.0</td>\n      <td>3337.0</td>\n      <td>4181886</td>\n    </tr>\n    <tr>\n      <th>38</th>\n      <td>Mid-Atlantic</td>\n      <td>Pennsylvania</td>\n      <td>8163.0</td>\n      <td>5349.0</td>\n      <td>12800922</td>\n    </tr>\n    <tr>\n      <th>39</th>\n      <td>New England</td>\n      <td>Rhode Island</td>\n      <td>747.0</td>\n      <td>354.0</td>\n      <td>1058287</td>\n    </tr>\n    <tr>\n      <th>40</th>\n      <td>South Atlantic</td>\n      <td>South Carolina</td>\n      <td>3082.0</td>\n      <td>851.0</td>\n      <td>5084156</td>\n    </tr>\n    <tr>\n      <th>41</th>\n      <td>West North Central</td>\n      <td>South Dakota</td>\n      <td>836.0</td>\n      <td>323.0</td>\n      <td>878698</td>\n    </tr>\n    <tr>\n      <th>42</th>\n      <td>East South Central</td>\n      <td>Tennessee</td>\n      <td>6139.0</td>\n      <td>1744.0</td>\n      <td>6771631</td>\n    </tr>\n    <tr>\n      <th>43</th>\n      <td>West South Central</td>\n      <td>Texas</td>\n      <td>19199.0</td>\n      <td>6111.0</td>\n      <td>28628666</td>\n    </tr>\n    <tr>\n      <th>44</th>\n      <td>Mountain</td>\n      <td>Utah</td>\n      <td>1904.0</td>\n      <td>972.0</td>\n      <td>3153550</td>\n    </tr>\n    <tr>\n      <th>45</th>\n      <td>New England</td>\n      <td>Vermont</td>\n      <td>780.0</td>\n      <td>511.0</td>\n      <td>624358</td>\n    </tr>\n    <tr>\n      <th>46</th>\n      <td>South Atlantic</td>\n      <td>Virginia</td>\n      <td>3928.0</td>\n      <td>2047.0</td>\n      <td>8501286</td>\n    </tr>\n    <tr>\n      <th>47</th>\n      <td>Pacific</td>\n      <td>Washington</td>\n      <td>16424.0</td>\n      <td>5880.0</td>\n      <td>7523869</td>\n    </tr>\n    <tr>\n      <th>48</th>\n      <td>South Atlantic</td>\n      <td>West Virginia</td>\n      <td>1021.0</td>\n      <td>222.0</td>\n      <td>1804291</td>\n    </tr>\n    <tr>\n      <th>49</th>\n      <td>East North Central</td>\n      <td>Wisconsin</td>\n      <td>2740.0</td>\n      <td>2167.0</td>\n      <td>5807406</td>\n    </tr>\n    <tr>\n      <th>50</th>\n      <td>Mountain</td>\n      <td>Wyoming</td>\n      <td>434.0</td>\n      <td>205.0</td>\n      <td>577601</td>\n    </tr>\n  </tbody>\n</table>\n</div>"
     },
     "execution_count": 2,
     "metadata": {},
     "output_type": "execute_result"
    }
   ],
   "source": [
    "import pandas as pd\n",
    "homelessness = pd.read_csv('homelessness.csv', index_col=0)\n",
    "homelessness"
   ],
   "metadata": {
    "collapsed": false,
    "pycharm": {
     "name": "#%%\n"
    }
   }
  },
  {
   "cell_type": "markdown",
   "source": [
    "Create indiv_per_10k col as homeless individuals per 10k state pop"
   ],
   "metadata": {
    "collapsed": false
   }
  },
  {
   "cell_type": "code",
   "execution_count": 3,
   "outputs": [
    {
     "data": {
      "text/plain": "0      5.258117\n1     19.506515\n2     10.141067\n3      7.575423\n4     27.623825\n5     13.366045\n6      6.383837\n7      7.333148\n8     53.738381\n9     10.093523\n10     6.605379\n11    29.079406\n12     7.409159\n13     5.306895\n14     5.639611\n15     5.434130\n16     4.956448\n17     6.130702\n18     5.451006\n19    10.828516\n20     8.141420\n21     9.895919\n22     5.217310\n23     7.122409\n24     3.435066\n25     6.168299\n26     9.267771\n27     9.062045\n28    23.314189\n29     6.169351\n30     6.806193\n31     9.313145\n32    20.392363\n33     6.213869\n34     6.160300\n35     5.934222\n36     7.164547\n37    26.636307\n38     6.376884\n39     7.058577\n40     6.061970\n41     9.514077\n42     9.065763\n43     6.706215\n44     6.037640\n45    12.492833\n46     4.620477\n47    21.829195\n48     5.658732\n49     4.718113\n50     7.513837\nName: indiv_per_10k, dtype: float64"
     },
     "execution_count": 3,
     "metadata": {},
     "output_type": "execute_result"
    }
   ],
   "source": [
    "homelessness[\"indiv_per_10k\"] = 10000 * homelessness['individuals'] / homelessness['state_pop']\n",
    "homelessness['indiv_per_10k']"
   ],
   "metadata": {
    "collapsed": false,
    "pycharm": {
     "name": "#%%\n"
    }
   }
  },
  {
   "cell_type": "markdown",
   "source": [
    "Subset rows for indiv_per_10k greater than 20"
   ],
   "metadata": {
    "collapsed": false
   }
  },
  {
   "cell_type": "code",
   "execution_count": 5,
   "metadata": {
    "collapsed": true
   },
   "outputs": [
    {
     "data": {
      "text/plain": "            region                 state  individuals  family_members  \\\n4          Pacific            California     109008.0         20964.0   \n8   South Atlantic  District of Columbia       3770.0          3134.0   \n11         Pacific                Hawaii       4131.0          2399.0   \n28        Mountain                Nevada       7058.0           486.0   \n32    Mid-Atlantic              New York      39827.0         52070.0   \n37         Pacific                Oregon      11139.0          3337.0   \n47         Pacific            Washington      16424.0          5880.0   \n\n    state_pop  indiv_per_10k  \n4    39461588      27.623825  \n8      701547      53.738381  \n11    1420593      29.079406  \n28    3027341      23.314189  \n32   19530351      20.392363  \n37    4181886      26.636307  \n47    7523869      21.829195  ",
      "text/html": "<div>\n<style scoped>\n    .dataframe tbody tr th:only-of-type {\n        vertical-align: middle;\n    }\n\n    .dataframe tbody tr th {\n        vertical-align: top;\n    }\n\n    .dataframe thead th {\n        text-align: right;\n    }\n</style>\n<table border=\"1\" class=\"dataframe\">\n  <thead>\n    <tr style=\"text-align: right;\">\n      <th></th>\n      <th>region</th>\n      <th>state</th>\n      <th>individuals</th>\n      <th>family_members</th>\n      <th>state_pop</th>\n      <th>indiv_per_10k</th>\n    </tr>\n  </thead>\n  <tbody>\n    <tr>\n      <th>4</th>\n      <td>Pacific</td>\n      <td>California</td>\n      <td>109008.0</td>\n      <td>20964.0</td>\n      <td>39461588</td>\n      <td>27.623825</td>\n    </tr>\n    <tr>\n      <th>8</th>\n      <td>South Atlantic</td>\n      <td>District of Columbia</td>\n      <td>3770.0</td>\n      <td>3134.0</td>\n      <td>701547</td>\n      <td>53.738381</td>\n    </tr>\n    <tr>\n      <th>11</th>\n      <td>Pacific</td>\n      <td>Hawaii</td>\n      <td>4131.0</td>\n      <td>2399.0</td>\n      <td>1420593</td>\n      <td>29.079406</td>\n    </tr>\n    <tr>\n      <th>28</th>\n      <td>Mountain</td>\n      <td>Nevada</td>\n      <td>7058.0</td>\n      <td>486.0</td>\n      <td>3027341</td>\n      <td>23.314189</td>\n    </tr>\n    <tr>\n      <th>32</th>\n      <td>Mid-Atlantic</td>\n      <td>New York</td>\n      <td>39827.0</td>\n      <td>52070.0</td>\n      <td>19530351</td>\n      <td>20.392363</td>\n    </tr>\n    <tr>\n      <th>37</th>\n      <td>Pacific</td>\n      <td>Oregon</td>\n      <td>11139.0</td>\n      <td>3337.0</td>\n      <td>4181886</td>\n      <td>26.636307</td>\n    </tr>\n    <tr>\n      <th>47</th>\n      <td>Pacific</td>\n      <td>Washington</td>\n      <td>16424.0</td>\n      <td>5880.0</td>\n      <td>7523869</td>\n      <td>21.829195</td>\n    </tr>\n  </tbody>\n</table>\n</div>"
     },
     "execution_count": 5,
     "metadata": {},
     "output_type": "execute_result"
    }
   ],
   "source": [
    "high_homelessness = homelessness[homelessness['indiv_per_10k'] > 20]\n",
    "high_homelessness"
   ]
  },
  {
   "cell_type": "markdown",
   "source": [
    "Sort high_homelessness by descending `indiv_per_10k`, assigning to `high_homelessness_srt`."
   ],
   "metadata": {
    "collapsed": false,
    "pycharm": {
     "name": "#%% md\n"
    }
   }
  },
  {
   "cell_type": "code",
   "execution_count": 6,
   "outputs": [
    {
     "data": {
      "text/plain": "            region                 state  individuals  family_members  \\\n8   South Atlantic  District of Columbia       3770.0          3134.0   \n11         Pacific                Hawaii       4131.0          2399.0   \n4          Pacific            California     109008.0         20964.0   \n37         Pacific                Oregon      11139.0          3337.0   \n28        Mountain                Nevada       7058.0           486.0   \n47         Pacific            Washington      16424.0          5880.0   \n32    Mid-Atlantic              New York      39827.0         52070.0   \n\n    state_pop  indiv_per_10k  \n8      701547      53.738381  \n11    1420593      29.079406  \n4    39461588      27.623825  \n37    4181886      26.636307  \n28    3027341      23.314189  \n47    7523869      21.829195  \n32   19530351      20.392363  ",
      "text/html": "<div>\n<style scoped>\n    .dataframe tbody tr th:only-of-type {\n        vertical-align: middle;\n    }\n\n    .dataframe tbody tr th {\n        vertical-align: top;\n    }\n\n    .dataframe thead th {\n        text-align: right;\n    }\n</style>\n<table border=\"1\" class=\"dataframe\">\n  <thead>\n    <tr style=\"text-align: right;\">\n      <th></th>\n      <th>region</th>\n      <th>state</th>\n      <th>individuals</th>\n      <th>family_members</th>\n      <th>state_pop</th>\n      <th>indiv_per_10k</th>\n    </tr>\n  </thead>\n  <tbody>\n    <tr>\n      <th>8</th>\n      <td>South Atlantic</td>\n      <td>District of Columbia</td>\n      <td>3770.0</td>\n      <td>3134.0</td>\n      <td>701547</td>\n      <td>53.738381</td>\n    </tr>\n    <tr>\n      <th>11</th>\n      <td>Pacific</td>\n      <td>Hawaii</td>\n      <td>4131.0</td>\n      <td>2399.0</td>\n      <td>1420593</td>\n      <td>29.079406</td>\n    </tr>\n    <tr>\n      <th>4</th>\n      <td>Pacific</td>\n      <td>California</td>\n      <td>109008.0</td>\n      <td>20964.0</td>\n      <td>39461588</td>\n      <td>27.623825</td>\n    </tr>\n    <tr>\n      <th>37</th>\n      <td>Pacific</td>\n      <td>Oregon</td>\n      <td>11139.0</td>\n      <td>3337.0</td>\n      <td>4181886</td>\n      <td>26.636307</td>\n    </tr>\n    <tr>\n      <th>28</th>\n      <td>Mountain</td>\n      <td>Nevada</td>\n      <td>7058.0</td>\n      <td>486.0</td>\n      <td>3027341</td>\n      <td>23.314189</td>\n    </tr>\n    <tr>\n      <th>47</th>\n      <td>Pacific</td>\n      <td>Washington</td>\n      <td>16424.0</td>\n      <td>5880.0</td>\n      <td>7523869</td>\n      <td>21.829195</td>\n    </tr>\n    <tr>\n      <th>32</th>\n      <td>Mid-Atlantic</td>\n      <td>New York</td>\n      <td>39827.0</td>\n      <td>52070.0</td>\n      <td>19530351</td>\n      <td>20.392363</td>\n    </tr>\n  </tbody>\n</table>\n</div>"
     },
     "execution_count": 6,
     "metadata": {},
     "output_type": "execute_result"
    }
   ],
   "source": [
    "high_homelessness_srt = high_homelessness.sort_values(['indiv_per_10k'], ascending=False)\n",
    "high_homelessness_srt"
   ],
   "metadata": {
    "collapsed": false,
    "pycharm": {
     "name": "#%%\n"
    }
   }
  },
  {
   "cell_type": "markdown",
   "source": [
    "From high_homelessness_srt, select the state and indiv_per_10k cols"
   ],
   "metadata": {
    "collapsed": false
   }
  },
  {
   "cell_type": "code",
   "execution_count": 8,
   "outputs": [
    {
     "data": {
      "text/plain": "                   state  indiv_per_10k\n8   District of Columbia      53.738381\n11                Hawaii      29.079406\n4             California      27.623825\n37                Oregon      26.636307\n28                Nevada      23.314189\n47            Washington      21.829195\n32              New York      20.392363",
      "text/html": "<div>\n<style scoped>\n    .dataframe tbody tr th:only-of-type {\n        vertical-align: middle;\n    }\n\n    .dataframe tbody tr th {\n        vertical-align: top;\n    }\n\n    .dataframe thead th {\n        text-align: right;\n    }\n</style>\n<table border=\"1\" class=\"dataframe\">\n  <thead>\n    <tr style=\"text-align: right;\">\n      <th></th>\n      <th>state</th>\n      <th>indiv_per_10k</th>\n    </tr>\n  </thead>\n  <tbody>\n    <tr>\n      <th>8</th>\n      <td>District of Columbia</td>\n      <td>53.738381</td>\n    </tr>\n    <tr>\n      <th>11</th>\n      <td>Hawaii</td>\n      <td>29.079406</td>\n    </tr>\n    <tr>\n      <th>4</th>\n      <td>California</td>\n      <td>27.623825</td>\n    </tr>\n    <tr>\n      <th>37</th>\n      <td>Oregon</td>\n      <td>26.636307</td>\n    </tr>\n    <tr>\n      <th>28</th>\n      <td>Nevada</td>\n      <td>23.314189</td>\n    </tr>\n    <tr>\n      <th>47</th>\n      <td>Washington</td>\n      <td>21.829195</td>\n    </tr>\n    <tr>\n      <th>32</th>\n      <td>New York</td>\n      <td>20.392363</td>\n    </tr>\n  </tbody>\n</table>\n</div>"
     },
     "execution_count": 8,
     "metadata": {},
     "output_type": "execute_result"
    }
   ],
   "source": [
    "result = high_homelessness_srt[[\"state\", \"indiv_per_10k\"]]\n",
    "result"
   ],
   "metadata": {
    "collapsed": false,
    "pycharm": {
     "name": "#%%\n"
    }
   }
  },
  {
   "cell_type": "markdown",
   "source": [
    "See the result"
   ],
   "metadata": {
    "collapsed": false,
    "pycharm": {
     "name": "#%% md\n"
    }
   }
  },
  {
   "cell_type": "code",
   "execution_count": 9,
   "outputs": [
    {
     "name": "stdout",
     "output_type": "stream",
     "text": [
      "                   state  indiv_per_10k\n",
      "8   District of Columbia      53.738381\n",
      "11                Hawaii      29.079406\n",
      "4             California      27.623825\n",
      "37                Oregon      26.636307\n",
      "28                Nevada      23.314189\n",
      "47            Washington      21.829195\n",
      "32              New York      20.392363\n"
     ]
    }
   ],
   "source": [
    "print(result)"
   ],
   "metadata": {
    "collapsed": false,
    "pycharm": {
     "name": "#%%\n"
    }
   }
  }
 ],
 "metadata": {
  "kernelspec": {
   "display_name": "Python 3",
   "language": "python",
   "name": "python3"
  },
  "language_info": {
   "codemirror_mode": {
    "name": "ipython",
    "version": 2
   },
   "file_extension": ".py",
   "mimetype": "text/x-python",
   "name": "python",
   "nbconvert_exporter": "python",
   "pygments_lexer": "ipython2",
   "version": "2.7.6"
  }
 },
 "nbformat": 4,
 "nbformat_minor": 0
}