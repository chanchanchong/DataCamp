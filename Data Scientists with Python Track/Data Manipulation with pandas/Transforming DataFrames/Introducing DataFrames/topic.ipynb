{
 "cells": [
  {
   "cell_type": "markdown",
   "source": [
    "## Introducing DataFrames"
   ],
   "metadata": {
    "collapsed": false
   }
  },
  {
   "cell_type": "markdown",
   "source": [
    "#### Course outline\n",
    "* Chapter 1: DataFrames\n",
    "   * Sorting and subsetting\n",
    "   * Creating new columns\n",
    "* Chapter 2: Aggregating Data\n",
    "   * Summary statistics\n",
    "   * Counting\n",
    "   * Grouped summary statistics\n",
    "* Chapter 3: Slicing and Indexing Data\n",
    "  * Subsetting using slicing\n",
    "  * Indexes and subsetting using indexes\n",
    "* Chapter 4: Creating and Visualizing Data\n",
    "  * Plotting\n",
    "  * Handling missing data\n",
    "  * Reading data into a DataFrame"
   ],
   "metadata": {
    "collapsed": false
   }
  },
  {
   "cell_type": "markdown",
   "source": [
    "## pandas is built on NumPy and Matplotlib"
   ],
   "metadata": {
    "collapsed": false
   }
  },
  {
   "cell_type": "markdown",
   "source": [
    "## pandas is popular"
   ],
   "metadata": {
    "collapsed": false
   }
  },
  {
   "cell_type": "markdown",
   "source": [
    "## Rectangular data\n"
   ],
   "metadata": {
    "collapsed": false
   }
  },
  {
   "cell_type": "code",
   "execution_count": 2,
   "outputs": [
    {
     "name": "stdout",
     "output_type": "stream",
     "text": [
      "              Breed  Color  Height (cm)   Weight (kg)  Date of Birth\n",
      "Name                                                                \n",
      "Bella      Labrador  Brown           56            25     2013-07-01\n",
      "Charlie      Poodle  Black           43            23     2016-09-16\n",
      "Lucy      Chow Chow  Brown           46            22     2014-08-25\n",
      "Cooper   Schanauzer   Gray           49            17     2011-12-11\n",
      "Max         Labrado  Black           59            29     2017-01-20\n",
      "Stella    Chihuahua    Tan           18             2     2015-04-20\n",
      "Bernie   St.Bernard  White           77            74     2018-02-27\n"
     ]
    }
   ],
   "source": [
    "import pandas as pd\n",
    "dogs = pd.read_csv('dogs.csv', index_col=0)\n",
    "print(dogs)"
   ],
   "metadata": {
    "collapsed": false,
    "pycharm": {
     "name": "#%%\n"
    }
   }
  },
  {
   "cell_type": "markdown",
   "source": [],
   "metadata": {
    "collapsed": false
   }
  },
  {
   "cell_type": "markdown",
   "source": [
    "## Exploring a DataFrame: .head()"
   ],
   "metadata": {
    "collapsed": false
   }
  },
  {
   "cell_type": "code",
   "execution_count": 3,
   "metadata": {
    "collapsed": true
   },
   "outputs": [
    {
     "data": {
      "text/plain": "              Breed  Color  Height (cm)   Weight (kg)  Date of Birth\nName                                                                \nBella      Labrador  Brown           56            25     2013-07-01\nCharlie      Poodle  Black           43            23     2016-09-16\nLucy      Chow Chow  Brown           46            22     2014-08-25\nCooper   Schanauzer   Gray           49            17     2011-12-11\nMax         Labrado  Black           59            29     2017-01-20",
      "text/html": "<div>\n<style scoped>\n    .dataframe tbody tr th:only-of-type {\n        vertical-align: middle;\n    }\n\n    .dataframe tbody tr th {\n        vertical-align: top;\n    }\n\n    .dataframe thead th {\n        text-align: right;\n    }\n</style>\n<table border=\"1\" class=\"dataframe\">\n  <thead>\n    <tr style=\"text-align: right;\">\n      <th></th>\n      <th>Breed</th>\n      <th>Color</th>\n      <th>Height (cm)</th>\n      <th>Weight (kg)</th>\n      <th>Date of Birth</th>\n    </tr>\n    <tr>\n      <th>Name</th>\n      <th></th>\n      <th></th>\n      <th></th>\n      <th></th>\n      <th></th>\n    </tr>\n  </thead>\n  <tbody>\n    <tr>\n      <th>Bella</th>\n      <td>Labrador</td>\n      <td>Brown</td>\n      <td>56</td>\n      <td>25</td>\n      <td>2013-07-01</td>\n    </tr>\n    <tr>\n      <th>Charlie</th>\n      <td>Poodle</td>\n      <td>Black</td>\n      <td>43</td>\n      <td>23</td>\n      <td>2016-09-16</td>\n    </tr>\n    <tr>\n      <th>Lucy</th>\n      <td>Chow Chow</td>\n      <td>Brown</td>\n      <td>46</td>\n      <td>22</td>\n      <td>2014-08-25</td>\n    </tr>\n    <tr>\n      <th>Cooper</th>\n      <td>Schanauzer</td>\n      <td>Gray</td>\n      <td>49</td>\n      <td>17</td>\n      <td>2011-12-11</td>\n    </tr>\n    <tr>\n      <th>Max</th>\n      <td>Labrado</td>\n      <td>Black</td>\n      <td>59</td>\n      <td>29</td>\n      <td>2017-01-20</td>\n    </tr>\n  </tbody>\n</table>\n</div>"
     },
     "execution_count": 3,
     "metadata": {},
     "output_type": "execute_result"
    }
   ],
   "source": [
    "dogs.head()"
   ]
  },
  {
   "cell_type": "code",
   "execution_count": 4,
   "outputs": [
    {
     "name": "stdout",
     "output_type": "stream",
     "text": [
      "<class 'pandas.core.frame.DataFrame'>\n",
      "Index: 7 entries, Bella to Bernie\n",
      "Data columns (total 5 columns):\n",
      " #   Column          Non-Null Count  Dtype \n",
      "---  ------          --------------  ----- \n",
      " 0   Breed           7 non-null      object\n",
      " 1   Color           7 non-null      object\n",
      " 2   Height (cm)     7 non-null      int64 \n",
      " 3    Weight (kg)    7 non-null      int64 \n",
      " 4    Date of Birth  7 non-null      object\n",
      "dtypes: int64(2), object(3)\n",
      "memory usage: 336.0+ bytes\n"
     ]
    }
   ],
   "source": [
    "dogs.info()"
   ],
   "metadata": {
    "collapsed": false,
    "pycharm": {
     "name": "#%%\n"
    }
   }
  },
  {
   "cell_type": "markdown",
   "source": [
    "## Exploring a DataFrame: .shape"
   ],
   "metadata": {
    "collapsed": false
   }
  },
  {
   "cell_type": "code",
   "execution_count": 5,
   "outputs": [
    {
     "data": {
      "text/plain": "(7, 5)"
     },
     "execution_count": 5,
     "metadata": {},
     "output_type": "execute_result"
    }
   ],
   "source": [
    "dogs.shape"
   ],
   "metadata": {
    "collapsed": false,
    "pycharm": {
     "name": "#%%\n"
    }
   }
  },
  {
   "cell_type": "code",
   "execution_count": 6,
   "outputs": [
    {
     "data": {
      "text/plain": "       Height (cm)   Weight (kg)\ncount     7.000000      7.000000\nmean     49.714286     27.428571\nstd      17.960274     22.292429\nmin      18.000000      2.000000\n25%      44.500000     19.500000\n50%      49.000000     23.000000\n75%      57.500000     27.000000\nmax      77.000000     74.000000",
      "text/html": "<div>\n<style scoped>\n    .dataframe tbody tr th:only-of-type {\n        vertical-align: middle;\n    }\n\n    .dataframe tbody tr th {\n        vertical-align: top;\n    }\n\n    .dataframe thead th {\n        text-align: right;\n    }\n</style>\n<table border=\"1\" class=\"dataframe\">\n  <thead>\n    <tr style=\"text-align: right;\">\n      <th></th>\n      <th>Height (cm)</th>\n      <th>Weight (kg)</th>\n    </tr>\n  </thead>\n  <tbody>\n    <tr>\n      <th>count</th>\n      <td>7.000000</td>\n      <td>7.000000</td>\n    </tr>\n    <tr>\n      <th>mean</th>\n      <td>49.714286</td>\n      <td>27.428571</td>\n    </tr>\n    <tr>\n      <th>std</th>\n      <td>17.960274</td>\n      <td>22.292429</td>\n    </tr>\n    <tr>\n      <th>min</th>\n      <td>18.000000</td>\n      <td>2.000000</td>\n    </tr>\n    <tr>\n      <th>25%</th>\n      <td>44.500000</td>\n      <td>19.500000</td>\n    </tr>\n    <tr>\n      <th>50%</th>\n      <td>49.000000</td>\n      <td>23.000000</td>\n    </tr>\n    <tr>\n      <th>75%</th>\n      <td>57.500000</td>\n      <td>27.000000</td>\n    </tr>\n    <tr>\n      <th>max</th>\n      <td>77.000000</td>\n      <td>74.000000</td>\n    </tr>\n  </tbody>\n</table>\n</div>"
     },
     "execution_count": 6,
     "metadata": {},
     "output_type": "execute_result"
    }
   ],
   "source": [
    "dogs.describe()"
   ],
   "metadata": {
    "collapsed": false,
    "pycharm": {
     "name": "#%%\n"
    }
   }
  },
  {
   "cell_type": "markdown",
   "source": [
    "## Components of a DataFrame: . values"
   ],
   "metadata": {
    "collapsed": false
   }
  },
  {
   "cell_type": "code",
   "execution_count": 8,
   "outputs": [
    {
     "name": "stdout",
     "output_type": "stream",
     "text": [
      "[['Labrador' 'Brown' 56 25 '2013-07-01']\n",
      " ['Poodle' 'Black' 43 23 '2016-09-16']\n",
      " ['Chow Chow' 'Brown' 46 22 '2014-08-25']\n",
      " ['Schanauzer' 'Gray' 49 17 '2011-12-11']\n",
      " ['Labrado' 'Black' 59 29 '2017-01-20']\n",
      " ['Chihuahua' 'Tan' 18 2 '2015-04-20']\n",
      " ['St.Bernard' 'White' 77 74 '2018-02-27']]\n"
     ]
    }
   ],
   "source": [
    "print(dogs.values)"
   ],
   "metadata": {
    "collapsed": false,
    "pycharm": {
     "name": "#%%\n"
    }
   }
  },
  {
   "cell_type": "markdown",
   "source": [
    "## Components of a DataFrame: .columns and .index"
   ],
   "metadata": {
    "collapsed": false
   }
  },
  {
   "cell_type": "code",
   "execution_count": 9,
   "outputs": [
    {
     "data": {
      "text/plain": "Index(['Breed', 'Color', 'Height (cm)', ' Weight (kg)', ' Date of Birth'], dtype='object')"
     },
     "execution_count": 9,
     "metadata": {},
     "output_type": "execute_result"
    }
   ],
   "source": [
    "dogs.columns"
   ],
   "metadata": {
    "collapsed": false,
    "pycharm": {
     "name": "#%%\n"
    }
   }
  },
  {
   "cell_type": "code",
   "execution_count": 10,
   "outputs": [
    {
     "data": {
      "text/plain": "Index(['Bella', 'Charlie', 'Lucy', 'Cooper', 'Max', 'Stella', 'Bernie'], dtype='object', name='Name')"
     },
     "execution_count": 10,
     "metadata": {},
     "output_type": "execute_result"
    }
   ],
   "source": [
    "dogs.index"
   ],
   "metadata": {
    "collapsed": false,
    "pycharm": {
     "name": "#%%\n"
    }
   }
  },
  {
   "cell_type": "markdown",
   "source": [
    "## pandas Philosophy"
   ],
   "metadata": {
    "collapsed": false
   }
  },
  {
   "cell_type": "markdown",
   "source": [
    "There should be one -- and preferably only one -- obvious way to do it."
   ],
   "metadata": {
    "collapsed": false
   }
  },
  {
   "cell_type": "code",
   "execution_count": null,
   "outputs": [],
   "source": [],
   "metadata": {
    "collapsed": false,
    "pycharm": {
     "name": "#%%\n"
    }
   }
  }
 ],
 "metadata": {
  "kernelspec": {
   "display_name": "Python 3",
   "language": "python",
   "name": "python3"
  },
  "language_info": {
   "codemirror_mode": {
    "name": "ipython",
    "version": 2
   },
   "file_extension": ".py",
   "mimetype": "text/x-python",
   "name": "python",
   "nbconvert_exporter": "python",
   "pygments_lexer": "ipython2",
   "version": "2.7.6"
  }
 },
 "nbformat": 4,
 "nbformat_minor": 0
}