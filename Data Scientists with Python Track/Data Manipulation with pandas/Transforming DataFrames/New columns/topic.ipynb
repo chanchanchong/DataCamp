{
 "cells": [
  {
   "cell_type": "markdown",
   "source": [
    "## New columns"
   ],
   "metadata": {
    "collapsed": false
   }
  },
  {
   "cell_type": "markdown",
   "source": [
    "## Adding a new column"
   ],
   "metadata": {
    "collapsed": false
   }
  },
  {
   "cell_type": "code",
   "execution_count": 1,
   "outputs": [
    {
     "data": {
      "text/plain": "      name       breed  color  height_cm  weight_kg date_of_birth\n0    Bella    Labrador  Brown         56         25    2013-07-01\n1  Charlie      Poodle  Black         43         23    2016-09-16\n2     Lucy   Chow Chow  Brown         46         22    2014-08-25\n3   Cooper  Schanauzer   Gray         49         17    2011-12-11\n4      Max    Labrador  Black         59         29    2017-01-20",
      "text/html": "<div>\n<style scoped>\n    .dataframe tbody tr th:only-of-type {\n        vertical-align: middle;\n    }\n\n    .dataframe tbody tr th {\n        vertical-align: top;\n    }\n\n    .dataframe thead th {\n        text-align: right;\n    }\n</style>\n<table border=\"1\" class=\"dataframe\">\n  <thead>\n    <tr style=\"text-align: right;\">\n      <th></th>\n      <th>name</th>\n      <th>breed</th>\n      <th>color</th>\n      <th>height_cm</th>\n      <th>weight_kg</th>\n      <th>date_of_birth</th>\n    </tr>\n  </thead>\n  <tbody>\n    <tr>\n      <th>0</th>\n      <td>Bella</td>\n      <td>Labrador</td>\n      <td>Brown</td>\n      <td>56</td>\n      <td>25</td>\n      <td>2013-07-01</td>\n    </tr>\n    <tr>\n      <th>1</th>\n      <td>Charlie</td>\n      <td>Poodle</td>\n      <td>Black</td>\n      <td>43</td>\n      <td>23</td>\n      <td>2016-09-16</td>\n    </tr>\n    <tr>\n      <th>2</th>\n      <td>Lucy</td>\n      <td>Chow Chow</td>\n      <td>Brown</td>\n      <td>46</td>\n      <td>22</td>\n      <td>2014-08-25</td>\n    </tr>\n    <tr>\n      <th>3</th>\n      <td>Cooper</td>\n      <td>Schanauzer</td>\n      <td>Gray</td>\n      <td>49</td>\n      <td>17</td>\n      <td>2011-12-11</td>\n    </tr>\n    <tr>\n      <th>4</th>\n      <td>Max</td>\n      <td>Labrador</td>\n      <td>Black</td>\n      <td>59</td>\n      <td>29</td>\n      <td>2017-01-20</td>\n    </tr>\n  </tbody>\n</table>\n</div>"
     },
     "execution_count": 1,
     "metadata": {},
     "output_type": "execute_result"
    }
   ],
   "source": [
    "import pandas as pd\n",
    "dogs = pd.read_csv('dogs.csv')\n",
    "dogs.head()"
   ],
   "metadata": {
    "collapsed": false,
    "pycharm": {
     "name": "#%%\n"
    }
   }
  },
  {
   "cell_type": "code",
   "execution_count": 3,
   "metadata": {
    "collapsed": true
   },
   "outputs": [
    {
     "data": {
      "text/plain": "      name       breed  color  height_cm  weight_kg date_of_birth  height_m\n0    Bella    Labrador  Brown         56         25    2013-07-01      0.56\n1  Charlie      Poodle  Black         43         23    2016-09-16      0.43\n2     Lucy   Chow Chow  Brown         46         22    2014-08-25      0.46\n3   Cooper  Schanauzer   Gray         49         17    2011-12-11      0.49\n4      Max    Labrador  Black         59         29    2017-01-20      0.59\n5   Stella   Chihuahua    Tan         18          2    2015-04-20      0.18\n6   Bernie  St.Bernard  White         77         74    2018-02-27      0.77",
      "text/html": "<div>\n<style scoped>\n    .dataframe tbody tr th:only-of-type {\n        vertical-align: middle;\n    }\n\n    .dataframe tbody tr th {\n        vertical-align: top;\n    }\n\n    .dataframe thead th {\n        text-align: right;\n    }\n</style>\n<table border=\"1\" class=\"dataframe\">\n  <thead>\n    <tr style=\"text-align: right;\">\n      <th></th>\n      <th>name</th>\n      <th>breed</th>\n      <th>color</th>\n      <th>height_cm</th>\n      <th>weight_kg</th>\n      <th>date_of_birth</th>\n      <th>height_m</th>\n    </tr>\n  </thead>\n  <tbody>\n    <tr>\n      <th>0</th>\n      <td>Bella</td>\n      <td>Labrador</td>\n      <td>Brown</td>\n      <td>56</td>\n      <td>25</td>\n      <td>2013-07-01</td>\n      <td>0.56</td>\n    </tr>\n    <tr>\n      <th>1</th>\n      <td>Charlie</td>\n      <td>Poodle</td>\n      <td>Black</td>\n      <td>43</td>\n      <td>23</td>\n      <td>2016-09-16</td>\n      <td>0.43</td>\n    </tr>\n    <tr>\n      <th>2</th>\n      <td>Lucy</td>\n      <td>Chow Chow</td>\n      <td>Brown</td>\n      <td>46</td>\n      <td>22</td>\n      <td>2014-08-25</td>\n      <td>0.46</td>\n    </tr>\n    <tr>\n      <th>3</th>\n      <td>Cooper</td>\n      <td>Schanauzer</td>\n      <td>Gray</td>\n      <td>49</td>\n      <td>17</td>\n      <td>2011-12-11</td>\n      <td>0.49</td>\n    </tr>\n    <tr>\n      <th>4</th>\n      <td>Max</td>\n      <td>Labrador</td>\n      <td>Black</td>\n      <td>59</td>\n      <td>29</td>\n      <td>2017-01-20</td>\n      <td>0.59</td>\n    </tr>\n    <tr>\n      <th>5</th>\n      <td>Stella</td>\n      <td>Chihuahua</td>\n      <td>Tan</td>\n      <td>18</td>\n      <td>2</td>\n      <td>2015-04-20</td>\n      <td>0.18</td>\n    </tr>\n    <tr>\n      <th>6</th>\n      <td>Bernie</td>\n      <td>St.Bernard</td>\n      <td>White</td>\n      <td>77</td>\n      <td>74</td>\n      <td>2018-02-27</td>\n      <td>0.77</td>\n    </tr>\n  </tbody>\n</table>\n</div>"
     },
     "execution_count": 3,
     "metadata": {},
     "output_type": "execute_result"
    }
   ],
   "source": [
    "dogs[\"height_m\"] = dogs[\"height_cm\"] / 100\n",
    "dogs"
   ]
  },
  {
   "cell_type": "markdown",
   "source": [
    "## Doggy mass index"
   ],
   "metadata": {
    "collapsed": false
   }
  },
  {
   "cell_type": "markdown",
   "source": [
    "BMI = weight in kg/ (height in m ** 2)"
   ],
   "metadata": {
    "collapsed": false
   }
  },
  {
   "cell_type": "code",
   "execution_count": 4,
   "outputs": [
    {
     "data": {
      "text/plain": "      name       breed  color  height_cm  weight_kg date_of_birth  height_m  \\\n0    Bella    Labrador  Brown         56         25    2013-07-01      0.56   \n1  Charlie      Poodle  Black         43         23    2016-09-16      0.43   \n2     Lucy   Chow Chow  Brown         46         22    2014-08-25      0.46   \n3   Cooper  Schanauzer   Gray         49         17    2011-12-11      0.49   \n4      Max    Labrador  Black         59         29    2017-01-20      0.59   \n\n          bmi  \n0   79.719388  \n1  124.391563  \n2  103.969754  \n3   70.803832  \n4   83.309394  ",
      "text/html": "<div>\n<style scoped>\n    .dataframe tbody tr th:only-of-type {\n        vertical-align: middle;\n    }\n\n    .dataframe tbody tr th {\n        vertical-align: top;\n    }\n\n    .dataframe thead th {\n        text-align: right;\n    }\n</style>\n<table border=\"1\" class=\"dataframe\">\n  <thead>\n    <tr style=\"text-align: right;\">\n      <th></th>\n      <th>name</th>\n      <th>breed</th>\n      <th>color</th>\n      <th>height_cm</th>\n      <th>weight_kg</th>\n      <th>date_of_birth</th>\n      <th>height_m</th>\n      <th>bmi</th>\n    </tr>\n  </thead>\n  <tbody>\n    <tr>\n      <th>0</th>\n      <td>Bella</td>\n      <td>Labrador</td>\n      <td>Brown</td>\n      <td>56</td>\n      <td>25</td>\n      <td>2013-07-01</td>\n      <td>0.56</td>\n      <td>79.719388</td>\n    </tr>\n    <tr>\n      <th>1</th>\n      <td>Charlie</td>\n      <td>Poodle</td>\n      <td>Black</td>\n      <td>43</td>\n      <td>23</td>\n      <td>2016-09-16</td>\n      <td>0.43</td>\n      <td>124.391563</td>\n    </tr>\n    <tr>\n      <th>2</th>\n      <td>Lucy</td>\n      <td>Chow Chow</td>\n      <td>Brown</td>\n      <td>46</td>\n      <td>22</td>\n      <td>2014-08-25</td>\n      <td>0.46</td>\n      <td>103.969754</td>\n    </tr>\n    <tr>\n      <th>3</th>\n      <td>Cooper</td>\n      <td>Schanauzer</td>\n      <td>Gray</td>\n      <td>49</td>\n      <td>17</td>\n      <td>2011-12-11</td>\n      <td>0.49</td>\n      <td>70.803832</td>\n    </tr>\n    <tr>\n      <th>4</th>\n      <td>Max</td>\n      <td>Labrador</td>\n      <td>Black</td>\n      <td>59</td>\n      <td>29</td>\n      <td>2017-01-20</td>\n      <td>0.59</td>\n      <td>83.309394</td>\n    </tr>\n  </tbody>\n</table>\n</div>"
     },
     "execution_count": 4,
     "metadata": {},
     "output_type": "execute_result"
    }
   ],
   "source": [
    "dogs[\"bmi\"] = dogs[\"weight_kg\"] / dogs[\"height_m\"] ** 2\n",
    "dogs.head()"
   ],
   "metadata": {
    "collapsed": false,
    "pycharm": {
     "name": "#%%\n"
    }
   }
  },
  {
   "cell_type": "markdown",
   "source": [
    "## Multiple manipulations"
   ],
   "metadata": {
    "collapsed": false
   }
  },
  {
   "cell_type": "code",
   "execution_count": 6,
   "outputs": [
    {
     "data": {
      "text/plain": "     name  height_cm        bmi\n4     Max         59  83.309394\n0   Bella         56  79.719388\n3  Cooper         49  70.803832\n5  Stella         18  61.728395",
      "text/html": "<div>\n<style scoped>\n    .dataframe tbody tr th:only-of-type {\n        vertical-align: middle;\n    }\n\n    .dataframe tbody tr th {\n        vertical-align: top;\n    }\n\n    .dataframe thead th {\n        text-align: right;\n    }\n</style>\n<table border=\"1\" class=\"dataframe\">\n  <thead>\n    <tr style=\"text-align: right;\">\n      <th></th>\n      <th>name</th>\n      <th>height_cm</th>\n      <th>bmi</th>\n    </tr>\n  </thead>\n  <tbody>\n    <tr>\n      <th>4</th>\n      <td>Max</td>\n      <td>59</td>\n      <td>83.309394</td>\n    </tr>\n    <tr>\n      <th>0</th>\n      <td>Bella</td>\n      <td>56</td>\n      <td>79.719388</td>\n    </tr>\n    <tr>\n      <th>3</th>\n      <td>Cooper</td>\n      <td>49</td>\n      <td>70.803832</td>\n    </tr>\n    <tr>\n      <th>5</th>\n      <td>Stella</td>\n      <td>18</td>\n      <td>61.728395</td>\n    </tr>\n  </tbody>\n</table>\n</div>"
     },
     "execution_count": 6,
     "metadata": {},
     "output_type": "execute_result"
    }
   ],
   "source": [
    "bmi_lt_100 = dogs[dogs[\"bmi\"] < 100]\n",
    "bmi_lt_100_height = bmi_lt_100.sort_values(\"height_cm\", ascending=False)\n",
    "bmi_lt_100_height[[\"name\", \"height_cm\", \"bmi\"]]"
   ],
   "metadata": {
    "collapsed": false,
    "pycharm": {
     "name": "#%%\n"
    }
   }
  },
  {
   "cell_type": "markdown",
   "source": [
    "## Sorting by multiple variables"
   ],
   "metadata": {
    "collapsed": false
   }
  },
  {
   "cell_type": "code",
   "execution_count": 25,
   "outputs": [
    {
     "data": {
      "text/plain": "      name       breed  color  height_cm  weight_kg date_of_birth\n5   Stella   Chihuahua    Tan         18          2    2015-04-20\n3   Cooper  Schanauzer   Gray         49         17    2011-12-11\n2     Lucy   Chow Chow  Brown         46         22    2014-08-25\n1  Charlie      Poodle  Black         43         23    2016-09-16\n0    Bella    Labrador  Brown         56         25    2013-07-01\n4      Max    Labrador  Black         59         29    2017-01-20\n6   Bernie  St.Bernard  White         77         74    2018-02-27",
      "text/html": "<div>\n<style scoped>\n    .dataframe tbody tr th:only-of-type {\n        vertical-align: middle;\n    }\n\n    .dataframe tbody tr th {\n        vertical-align: top;\n    }\n\n    .dataframe thead th {\n        text-align: right;\n    }\n</style>\n<table border=\"1\" class=\"dataframe\">\n  <thead>\n    <tr style=\"text-align: right;\">\n      <th></th>\n      <th>name</th>\n      <th>breed</th>\n      <th>color</th>\n      <th>height_cm</th>\n      <th>weight_kg</th>\n      <th>date_of_birth</th>\n    </tr>\n  </thead>\n  <tbody>\n    <tr>\n      <th>5</th>\n      <td>Stella</td>\n      <td>Chihuahua</td>\n      <td>Tan</td>\n      <td>18</td>\n      <td>2</td>\n      <td>2015-04-20</td>\n    </tr>\n    <tr>\n      <th>3</th>\n      <td>Cooper</td>\n      <td>Schanauzer</td>\n      <td>Gray</td>\n      <td>49</td>\n      <td>17</td>\n      <td>2011-12-11</td>\n    </tr>\n    <tr>\n      <th>2</th>\n      <td>Lucy</td>\n      <td>Chow Chow</td>\n      <td>Brown</td>\n      <td>46</td>\n      <td>22</td>\n      <td>2014-08-25</td>\n    </tr>\n    <tr>\n      <th>1</th>\n      <td>Charlie</td>\n      <td>Poodle</td>\n      <td>Black</td>\n      <td>43</td>\n      <td>23</td>\n      <td>2016-09-16</td>\n    </tr>\n    <tr>\n      <th>0</th>\n      <td>Bella</td>\n      <td>Labrador</td>\n      <td>Brown</td>\n      <td>56</td>\n      <td>25</td>\n      <td>2013-07-01</td>\n    </tr>\n    <tr>\n      <th>4</th>\n      <td>Max</td>\n      <td>Labrador</td>\n      <td>Black</td>\n      <td>59</td>\n      <td>29</td>\n      <td>2017-01-20</td>\n    </tr>\n    <tr>\n      <th>6</th>\n      <td>Bernie</td>\n      <td>St.Bernard</td>\n      <td>White</td>\n      <td>77</td>\n      <td>74</td>\n      <td>2018-02-27</td>\n    </tr>\n  </tbody>\n</table>\n</div>"
     },
     "execution_count": 25,
     "metadata": {},
     "output_type": "execute_result"
    }
   ],
   "source": [
    "dogs.sort_values([\"weight_kg\", \"height_cm\"], ascending=[True, False])"
   ],
   "metadata": {
    "collapsed": false,
    "pycharm": {
     "name": "#%%\n"
    }
   }
  },
  {
   "cell_type": "markdown",
   "source": [
    "Subsetting columns"
   ],
   "metadata": {
    "collapsed": false
   }
  },
  {
   "cell_type": "code",
   "execution_count": 26,
   "outputs": [
    {
     "data": {
      "text/plain": "0      Bella\n1    Charlie\n2       Lucy\n3     Cooper\n4        Max\n5     Stella\n6     Bernie\nName: name, dtype: object"
     },
     "execution_count": 26,
     "metadata": {},
     "output_type": "execute_result"
    }
   ],
   "source": [
    "dogs[\"name\"]"
   ],
   "metadata": {
    "collapsed": false,
    "pycharm": {
     "name": "#%%\n"
    }
   }
  },
  {
   "cell_type": "markdown",
   "source": [
    "## Subsetting multiple columns"
   ],
   "metadata": {
    "collapsed": false
   }
  },
  {
   "cell_type": "code",
   "execution_count": 27,
   "outputs": [
    {
     "data": {
      "text/plain": "        breed  height_cm\n0    Labrador         56\n1      Poodle         43\n2   Chow Chow         46\n3  Schanauzer         49\n4    Labrador         59\n5   Chihuahua         18\n6  St.Bernard         77",
      "text/html": "<div>\n<style scoped>\n    .dataframe tbody tr th:only-of-type {\n        vertical-align: middle;\n    }\n\n    .dataframe tbody tr th {\n        vertical-align: top;\n    }\n\n    .dataframe thead th {\n        text-align: right;\n    }\n</style>\n<table border=\"1\" class=\"dataframe\">\n  <thead>\n    <tr style=\"text-align: right;\">\n      <th></th>\n      <th>breed</th>\n      <th>height_cm</th>\n    </tr>\n  </thead>\n  <tbody>\n    <tr>\n      <th>0</th>\n      <td>Labrador</td>\n      <td>56</td>\n    </tr>\n    <tr>\n      <th>1</th>\n      <td>Poodle</td>\n      <td>43</td>\n    </tr>\n    <tr>\n      <th>2</th>\n      <td>Chow Chow</td>\n      <td>46</td>\n    </tr>\n    <tr>\n      <th>3</th>\n      <td>Schanauzer</td>\n      <td>49</td>\n    </tr>\n    <tr>\n      <th>4</th>\n      <td>Labrador</td>\n      <td>59</td>\n    </tr>\n    <tr>\n      <th>5</th>\n      <td>Chihuahua</td>\n      <td>18</td>\n    </tr>\n    <tr>\n      <th>6</th>\n      <td>St.Bernard</td>\n      <td>77</td>\n    </tr>\n  </tbody>\n</table>\n</div>"
     },
     "execution_count": 27,
     "metadata": {},
     "output_type": "execute_result"
    }
   ],
   "source": [
    "dogs[[\"breed\", \"height_cm\"]]"
   ],
   "metadata": {
    "collapsed": false,
    "pycharm": {
     "name": "#%%\n"
    }
   }
  },
  {
   "cell_type": "code",
   "execution_count": 28,
   "outputs": [
    {
     "data": {
      "text/plain": "        breed  height_cm\n0    Labrador         56\n1      Poodle         43\n2   Chow Chow         46\n3  Schanauzer         49\n4    Labrador         59\n5   Chihuahua         18\n6  St.Bernard         77",
      "text/html": "<div>\n<style scoped>\n    .dataframe tbody tr th:only-of-type {\n        vertical-align: middle;\n    }\n\n    .dataframe tbody tr th {\n        vertical-align: top;\n    }\n\n    .dataframe thead th {\n        text-align: right;\n    }\n</style>\n<table border=\"1\" class=\"dataframe\">\n  <thead>\n    <tr style=\"text-align: right;\">\n      <th></th>\n      <th>breed</th>\n      <th>height_cm</th>\n    </tr>\n  </thead>\n  <tbody>\n    <tr>\n      <th>0</th>\n      <td>Labrador</td>\n      <td>56</td>\n    </tr>\n    <tr>\n      <th>1</th>\n      <td>Poodle</td>\n      <td>43</td>\n    </tr>\n    <tr>\n      <th>2</th>\n      <td>Chow Chow</td>\n      <td>46</td>\n    </tr>\n    <tr>\n      <th>3</th>\n      <td>Schanauzer</td>\n      <td>49</td>\n    </tr>\n    <tr>\n      <th>4</th>\n      <td>Labrador</td>\n      <td>59</td>\n    </tr>\n    <tr>\n      <th>5</th>\n      <td>Chihuahua</td>\n      <td>18</td>\n    </tr>\n    <tr>\n      <th>6</th>\n      <td>St.Bernard</td>\n      <td>77</td>\n    </tr>\n  </tbody>\n</table>\n</div>"
     },
     "execution_count": 28,
     "metadata": {},
     "output_type": "execute_result"
    }
   ],
   "source": [
    "cols_to_subset = [\"breed\", \"height_cm\"]\n",
    "dogs[cols_to_subset]"
   ],
   "metadata": {
    "collapsed": false,
    "pycharm": {
     "name": "#%%\n"
    }
   }
  },
  {
   "cell_type": "markdown",
   "source": [
    "## Subsetting rows"
   ],
   "metadata": {
    "collapsed": false
   }
  },
  {
   "cell_type": "code",
   "execution_count": 29,
   "outputs": [
    {
     "data": {
      "text/plain": "0     True\n1    False\n2    False\n3    False\n4     True\n5    False\n6     True\nName: height_cm, dtype: bool"
     },
     "execution_count": 29,
     "metadata": {},
     "output_type": "execute_result"
    }
   ],
   "source": [
    "dogs[\"height_cm\"] > 50"
   ],
   "metadata": {
    "collapsed": false,
    "pycharm": {
     "name": "#%%\n"
    }
   }
  },
  {
   "cell_type": "code",
   "execution_count": 30,
   "outputs": [
    {
     "data": {
      "text/plain": "     name       breed  color  height_cm  weight_kg date_of_birth\n0   Bella    Labrador  Brown         56         25    2013-07-01\n4     Max    Labrador  Black         59         29    2017-01-20\n6  Bernie  St.Bernard  White         77         74    2018-02-27",
      "text/html": "<div>\n<style scoped>\n    .dataframe tbody tr th:only-of-type {\n        vertical-align: middle;\n    }\n\n    .dataframe tbody tr th {\n        vertical-align: top;\n    }\n\n    .dataframe thead th {\n        text-align: right;\n    }\n</style>\n<table border=\"1\" class=\"dataframe\">\n  <thead>\n    <tr style=\"text-align: right;\">\n      <th></th>\n      <th>name</th>\n      <th>breed</th>\n      <th>color</th>\n      <th>height_cm</th>\n      <th>weight_kg</th>\n      <th>date_of_birth</th>\n    </tr>\n  </thead>\n  <tbody>\n    <tr>\n      <th>0</th>\n      <td>Bella</td>\n      <td>Labrador</td>\n      <td>Brown</td>\n      <td>56</td>\n      <td>25</td>\n      <td>2013-07-01</td>\n    </tr>\n    <tr>\n      <th>4</th>\n      <td>Max</td>\n      <td>Labrador</td>\n      <td>Black</td>\n      <td>59</td>\n      <td>29</td>\n      <td>2017-01-20</td>\n    </tr>\n    <tr>\n      <th>6</th>\n      <td>Bernie</td>\n      <td>St.Bernard</td>\n      <td>White</td>\n      <td>77</td>\n      <td>74</td>\n      <td>2018-02-27</td>\n    </tr>\n  </tbody>\n</table>\n</div>"
     },
     "execution_count": 30,
     "metadata": {},
     "output_type": "execute_result"
    }
   ],
   "source": [
    "dogs[dogs[\"height_cm\"] > 50]"
   ],
   "metadata": {
    "collapsed": false,
    "pycharm": {
     "name": "#%%\n"
    }
   }
  },
  {
   "cell_type": "markdown",
   "source": [
    "## Subsetting based on text data"
   ],
   "metadata": {
    "collapsed": false
   }
  },
  {
   "cell_type": "code",
   "execution_count": 31,
   "outputs": [
    {
     "data": {
      "text/plain": "    name     breed  color  height_cm  weight_kg date_of_birth\n0  Bella  Labrador  Brown         56         25    2013-07-01\n4    Max  Labrador  Black         59         29    2017-01-20",
      "text/html": "<div>\n<style scoped>\n    .dataframe tbody tr th:only-of-type {\n        vertical-align: middle;\n    }\n\n    .dataframe tbody tr th {\n        vertical-align: top;\n    }\n\n    .dataframe thead th {\n        text-align: right;\n    }\n</style>\n<table border=\"1\" class=\"dataframe\">\n  <thead>\n    <tr style=\"text-align: right;\">\n      <th></th>\n      <th>name</th>\n      <th>breed</th>\n      <th>color</th>\n      <th>height_cm</th>\n      <th>weight_kg</th>\n      <th>date_of_birth</th>\n    </tr>\n  </thead>\n  <tbody>\n    <tr>\n      <th>0</th>\n      <td>Bella</td>\n      <td>Labrador</td>\n      <td>Brown</td>\n      <td>56</td>\n      <td>25</td>\n      <td>2013-07-01</td>\n    </tr>\n    <tr>\n      <th>4</th>\n      <td>Max</td>\n      <td>Labrador</td>\n      <td>Black</td>\n      <td>59</td>\n      <td>29</td>\n      <td>2017-01-20</td>\n    </tr>\n  </tbody>\n</table>\n</div>"
     },
     "execution_count": 31,
     "metadata": {},
     "output_type": "execute_result"
    }
   ],
   "source": [
    "dogs[dogs[\"breed\"] == \"Labrador\"]"
   ],
   "metadata": {
    "collapsed": false,
    "pycharm": {
     "name": "#%%\n"
    }
   }
  },
  {
   "cell_type": "markdown",
   "source": [
    "## Subsetting based on dates"
   ],
   "metadata": {
    "collapsed": false
   }
  },
  {
   "cell_type": "code",
   "execution_count": 32,
   "outputs": [
    {
     "data": {
      "text/plain": "      name       breed  color  height_cm  weight_kg date_of_birth\n1  Charlie      Poodle  Black         43         23    2016-09-16\n4      Max    Labrador  Black         59         29    2017-01-20\n5   Stella   Chihuahua    Tan         18          2    2015-04-20\n6   Bernie  St.Bernard  White         77         74    2018-02-27",
      "text/html": "<div>\n<style scoped>\n    .dataframe tbody tr th:only-of-type {\n        vertical-align: middle;\n    }\n\n    .dataframe tbody tr th {\n        vertical-align: top;\n    }\n\n    .dataframe thead th {\n        text-align: right;\n    }\n</style>\n<table border=\"1\" class=\"dataframe\">\n  <thead>\n    <tr style=\"text-align: right;\">\n      <th></th>\n      <th>name</th>\n      <th>breed</th>\n      <th>color</th>\n      <th>height_cm</th>\n      <th>weight_kg</th>\n      <th>date_of_birth</th>\n    </tr>\n  </thead>\n  <tbody>\n    <tr>\n      <th>1</th>\n      <td>Charlie</td>\n      <td>Poodle</td>\n      <td>Black</td>\n      <td>43</td>\n      <td>23</td>\n      <td>2016-09-16</td>\n    </tr>\n    <tr>\n      <th>4</th>\n      <td>Max</td>\n      <td>Labrador</td>\n      <td>Black</td>\n      <td>59</td>\n      <td>29</td>\n      <td>2017-01-20</td>\n    </tr>\n    <tr>\n      <th>5</th>\n      <td>Stella</td>\n      <td>Chihuahua</td>\n      <td>Tan</td>\n      <td>18</td>\n      <td>2</td>\n      <td>2015-04-20</td>\n    </tr>\n    <tr>\n      <th>6</th>\n      <td>Bernie</td>\n      <td>St.Bernard</td>\n      <td>White</td>\n      <td>77</td>\n      <td>74</td>\n      <td>2018-02-27</td>\n    </tr>\n  </tbody>\n</table>\n</div>"
     },
     "execution_count": 32,
     "metadata": {},
     "output_type": "execute_result"
    }
   ],
   "source": [
    "dogs[dogs[\"date_of_birth\"] > \"2015-01-01\"]"
   ],
   "metadata": {
    "collapsed": false,
    "pycharm": {
     "name": "#%%\n"
    }
   }
  },
  {
   "cell_type": "markdown",
   "source": [
    "# Subsetting based on multiple conditions"
   ],
   "metadata": {
    "collapsed": false
   }
  },
  {
   "cell_type": "code",
   "execution_count": 34,
   "outputs": [
    {
     "data": {
      "text/plain": "    name     breed  color  height_cm  weight_kg date_of_birth\n0  Bella  Labrador  Brown         56         25    2013-07-01",
      "text/html": "<div>\n<style scoped>\n    .dataframe tbody tr th:only-of-type {\n        vertical-align: middle;\n    }\n\n    .dataframe tbody tr th {\n        vertical-align: top;\n    }\n\n    .dataframe thead th {\n        text-align: right;\n    }\n</style>\n<table border=\"1\" class=\"dataframe\">\n  <thead>\n    <tr style=\"text-align: right;\">\n      <th></th>\n      <th>name</th>\n      <th>breed</th>\n      <th>color</th>\n      <th>height_cm</th>\n      <th>weight_kg</th>\n      <th>date_of_birth</th>\n    </tr>\n  </thead>\n  <tbody>\n    <tr>\n      <th>0</th>\n      <td>Bella</td>\n      <td>Labrador</td>\n      <td>Brown</td>\n      <td>56</td>\n      <td>25</td>\n      <td>2013-07-01</td>\n    </tr>\n  </tbody>\n</table>\n</div>"
     },
     "execution_count": 34,
     "metadata": {},
     "output_type": "execute_result"
    }
   ],
   "source": [
    "is_lab = dogs[\"breed\"] == \"Labrador\"\n",
    "is_brown = dogs[\"color\"] == \"Brown\"\n",
    "dogs[is_lab & is_brown]"
   ],
   "metadata": {
    "collapsed": false,
    "pycharm": {
     "name": "#%%\n"
    }
   }
  },
  {
   "cell_type": "markdown",
   "source": [
    "one line of code"
   ],
   "metadata": {
    "collapsed": false
   }
  },
  {
   "cell_type": "code",
   "execution_count": 35,
   "outputs": [
    {
     "data": {
      "text/plain": "    name     breed  color  height_cm  weight_kg date_of_birth\n0  Bella  Labrador  Brown         56         25    2013-07-01",
      "text/html": "<div>\n<style scoped>\n    .dataframe tbody tr th:only-of-type {\n        vertical-align: middle;\n    }\n\n    .dataframe tbody tr th {\n        vertical-align: top;\n    }\n\n    .dataframe thead th {\n        text-align: right;\n    }\n</style>\n<table border=\"1\" class=\"dataframe\">\n  <thead>\n    <tr style=\"text-align: right;\">\n      <th></th>\n      <th>name</th>\n      <th>breed</th>\n      <th>color</th>\n      <th>height_cm</th>\n      <th>weight_kg</th>\n      <th>date_of_birth</th>\n    </tr>\n  </thead>\n  <tbody>\n    <tr>\n      <th>0</th>\n      <td>Bella</td>\n      <td>Labrador</td>\n      <td>Brown</td>\n      <td>56</td>\n      <td>25</td>\n      <td>2013-07-01</td>\n    </tr>\n  </tbody>\n</table>\n</div>"
     },
     "execution_count": 35,
     "metadata": {},
     "output_type": "execute_result"
    }
   ],
   "source": [
    "dogs[ (dogs[\"breed\"] == \"Labrador\") & (dogs[\"color\"] == \"Brown\") ]"
   ],
   "metadata": {
    "collapsed": false,
    "pycharm": {
     "name": "#%%\n"
    }
   }
  },
  {
   "cell_type": "markdown",
   "source": [
    "## Subsetting using .isin()"
   ],
   "metadata": {
    "collapsed": false
   }
  },
  {
   "cell_type": "code",
   "execution_count": 36,
   "outputs": [
    {
     "data": {
      "text/plain": "      name      breed  color  height_cm  weight_kg date_of_birth\n0    Bella   Labrador  Brown         56         25    2013-07-01\n1  Charlie     Poodle  Black         43         23    2016-09-16\n2     Lucy  Chow Chow  Brown         46         22    2014-08-25\n4      Max   Labrador  Black         59         29    2017-01-20",
      "text/html": "<div>\n<style scoped>\n    .dataframe tbody tr th:only-of-type {\n        vertical-align: middle;\n    }\n\n    .dataframe tbody tr th {\n        vertical-align: top;\n    }\n\n    .dataframe thead th {\n        text-align: right;\n    }\n</style>\n<table border=\"1\" class=\"dataframe\">\n  <thead>\n    <tr style=\"text-align: right;\">\n      <th></th>\n      <th>name</th>\n      <th>breed</th>\n      <th>color</th>\n      <th>height_cm</th>\n      <th>weight_kg</th>\n      <th>date_of_birth</th>\n    </tr>\n  </thead>\n  <tbody>\n    <tr>\n      <th>0</th>\n      <td>Bella</td>\n      <td>Labrador</td>\n      <td>Brown</td>\n      <td>56</td>\n      <td>25</td>\n      <td>2013-07-01</td>\n    </tr>\n    <tr>\n      <th>1</th>\n      <td>Charlie</td>\n      <td>Poodle</td>\n      <td>Black</td>\n      <td>43</td>\n      <td>23</td>\n      <td>2016-09-16</td>\n    </tr>\n    <tr>\n      <th>2</th>\n      <td>Lucy</td>\n      <td>Chow Chow</td>\n      <td>Brown</td>\n      <td>46</td>\n      <td>22</td>\n      <td>2014-08-25</td>\n    </tr>\n    <tr>\n      <th>4</th>\n      <td>Max</td>\n      <td>Labrador</td>\n      <td>Black</td>\n      <td>59</td>\n      <td>29</td>\n      <td>2017-01-20</td>\n    </tr>\n  </tbody>\n</table>\n</div>"
     },
     "execution_count": 36,
     "metadata": {},
     "output_type": "execute_result"
    }
   ],
   "source": [
    "is_black_or_brown = dogs[\"color\"].isin([\"Black\", \"Brown\"])\n",
    "dogs[is_black_or_brown]"
   ],
   "metadata": {
    "collapsed": false,
    "pycharm": {
     "name": "#%%\n"
    }
   }
  },
  {
   "cell_type": "code",
   "execution_count": null,
   "outputs": [],
   "source": [],
   "metadata": {
    "collapsed": false,
    "pycharm": {
     "name": "#%%\n"
    }
   }
  }
 ],
 "metadata": {
  "kernelspec": {
   "display_name": "Python 3",
   "language": "python",
   "name": "python3"
  },
  "language_info": {
   "codemirror_mode": {
    "name": "ipython",
    "version": 2
   },
   "file_extension": ".py",
   "mimetype": "text/x-python",
   "name": "python",
   "nbconvert_exporter": "python",
   "pygments_lexer": "ipython2",
   "version": "2.7.6"
  }
 },
 "nbformat": 4,
 "nbformat_minor": 0
}