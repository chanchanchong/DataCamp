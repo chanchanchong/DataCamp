{
 "cells": [
  {
   "cell_type": "markdown",
   "source": [
    "### Exercise\n",
    "## Subsetting columns"
   ],
   "metadata": {
    "collapsed": false
   }
  },
  {
   "cell_type": "markdown",
   "source": [
    "When working with data, you may not need all of the variabes in your dataset. Sqaure brackets (`[]`) can be used to select only the columns that matter to you in an order that makes sense to you. To select only `\"col_a\"` of the DataFrame `df`, use"
   ],
   "metadata": {
    "collapsed": false
   }
  },
  {
   "cell_type": "code",
   "execution_count": null,
   "outputs": [],
   "source": [
    "df[\"col_a\"]"
   ],
   "metadata": {
    "collapsed": false,
    "pycharm": {
     "name": "#%%\n"
    }
   }
  },
  {
   "cell_type": "markdown",
   "source": [
    "To select `\"col_a\"` and `\"col_b\"` of `df`, use"
   ],
   "metadata": {
    "collapsed": false
   }
  },
  {
   "cell_type": "code",
   "execution_count": null,
   "outputs": [],
   "source": [
    "df[[\"col_a\", \"col_b\"]]"
   ],
   "metadata": {
    "collapsed": false,
    "pycharm": {
     "name": "#%%\n"
    }
   }
  },
  {
   "cell_type": "markdown",
   "source": [
    "`homelessness` is available and `pandas` is loaded as `pd`."
   ],
   "metadata": {
    "collapsed": false
   }
  },
  {
   "cell_type": "markdown",
   "source": [
    "## Instructions\n",
    "* Create a DataFrame called `individuals` that contains only the `individuals` column of `homelessness`.\n",
    "* Print the head of the result."
   ],
   "metadata": {
    "collapsed": false
   }
  },
  {
   "cell_type": "code",
   "execution_count": 1,
   "outputs": [
    {
     "data": {
      "text/plain": "               region       state  individuals  family_members  state_pop\n0  East South Central     Alabama       2570.0           864.0    4887681\n1             Pacific      Alaska       1434.0           582.0     735139\n2            Mountain     Arizona       7259.0          2606.0    7158024\n3  West South Central    Arkansas       2280.0           432.0    3009733\n4             Pacific  California     109008.0         20964.0   39461588",
      "text/html": "<div>\n<style scoped>\n    .dataframe tbody tr th:only-of-type {\n        vertical-align: middle;\n    }\n\n    .dataframe tbody tr th {\n        vertical-align: top;\n    }\n\n    .dataframe thead th {\n        text-align: right;\n    }\n</style>\n<table border=\"1\" class=\"dataframe\">\n  <thead>\n    <tr style=\"text-align: right;\">\n      <th></th>\n      <th>region</th>\n      <th>state</th>\n      <th>individuals</th>\n      <th>family_members</th>\n      <th>state_pop</th>\n    </tr>\n  </thead>\n  <tbody>\n    <tr>\n      <th>0</th>\n      <td>East South Central</td>\n      <td>Alabama</td>\n      <td>2570.0</td>\n      <td>864.0</td>\n      <td>4887681</td>\n    </tr>\n    <tr>\n      <th>1</th>\n      <td>Pacific</td>\n      <td>Alaska</td>\n      <td>1434.0</td>\n      <td>582.0</td>\n      <td>735139</td>\n    </tr>\n    <tr>\n      <th>2</th>\n      <td>Mountain</td>\n      <td>Arizona</td>\n      <td>7259.0</td>\n      <td>2606.0</td>\n      <td>7158024</td>\n    </tr>\n    <tr>\n      <th>3</th>\n      <td>West South Central</td>\n      <td>Arkansas</td>\n      <td>2280.0</td>\n      <td>432.0</td>\n      <td>3009733</td>\n    </tr>\n    <tr>\n      <th>4</th>\n      <td>Pacific</td>\n      <td>California</td>\n      <td>109008.0</td>\n      <td>20964.0</td>\n      <td>39461588</td>\n    </tr>\n  </tbody>\n</table>\n</div>"
     },
     "execution_count": 1,
     "metadata": {},
     "output_type": "execute_result"
    }
   ],
   "source": [
    "import pandas as pd\n",
    "homelessness = pd.read_csv('homelessness.csv', index_col=0)\n",
    "homelessness.head()"
   ],
   "metadata": {
    "collapsed": false,
    "pycharm": {
     "name": "#%%\n"
    }
   }
  },
  {
   "cell_type": "markdown",
   "source": [
    "Select thet individual column"
   ],
   "metadata": {
    "collapsed": false
   }
  },
  {
   "cell_type": "code",
   "execution_count": 3,
   "metadata": {
    "collapsed": true
   },
   "outputs": [
    {
     "data": {
      "text/plain": "0       2570.0\n1       1434.0\n2       7259.0\n3       2280.0\n4     109008.0\n5       7607.0\n6       2280.0\n7        708.0\n8       3770.0\n9      21443.0\n10      6943.0\n11      4131.0\n12      1297.0\n13      6752.0\n14      3776.0\n15      1711.0\n16      1443.0\n17      2735.0\n18      2540.0\n19      1450.0\n20      4914.0\n21      6811.0\n22      5209.0\n23      3993.0\n24      1024.0\n25      3776.0\n26       983.0\n27      1745.0\n28      7058.0\n29       835.0\n30      6048.0\n31      1949.0\n32     39827.0\n33      6451.0\n34       467.0\n35      6929.0\n36      2823.0\n37     11139.0\n38      8163.0\n39       747.0\n40      3082.0\n41       836.0\n42      6139.0\n43     19199.0\n44      1904.0\n45       780.0\n46      3928.0\n47     16424.0\n48      1021.0\n49      2740.0\n50       434.0\nName: individuals, dtype: float64"
     },
     "execution_count": 3,
     "metadata": {},
     "output_type": "execute_result"
    }
   ],
   "source": [
    "individuals = homelessness[\"individuals\"]\n",
    "individuals"
   ]
  },
  {
   "cell_type": "markdown",
   "source": [
    "Print the head of the result"
   ],
   "metadata": {
    "collapsed": false,
    "pycharm": {
     "name": "#%% md\n"
    }
   }
  },
  {
   "cell_type": "code",
   "execution_count": 4,
   "outputs": [
    {
     "name": "stdout",
     "output_type": "stream",
     "text": [
      "0      2570.0\n",
      "1      1434.0\n",
      "2      7259.0\n",
      "3      2280.0\n",
      "4    109008.0\n",
      "Name: individuals, dtype: float64\n"
     ]
    }
   ],
   "source": [
    "print(individuals.head())"
   ],
   "metadata": {
    "collapsed": false,
    "pycharm": {
     "name": "#%%\n"
    }
   }
  },
  {
   "cell_type": "markdown",
   "source": [
    "## Instructions 2/3\n",
    "* Create a DataFrame called `state_fam` that contains only the `state` and `family_members` columns of `homelessness`, in that order.\n",
    "* Print the head of the result."
   ],
   "metadata": {
    "collapsed": false
   }
  },
  {
   "cell_type": "markdown",
   "source": [
    "Select the state and family_members columns"
   ],
   "metadata": {
    "collapsed": false
   }
  },
  {
   "cell_type": "code",
   "execution_count": 5,
   "outputs": [
    {
     "data": {
      "text/plain": "                   state  family_members\n0                Alabama           864.0\n1                 Alaska           582.0\n2                Arizona          2606.0\n3               Arkansas           432.0\n4             California         20964.0\n5               Colorado          3250.0\n6            Connecticut          1696.0\n7               Delaware           374.0\n8   District of Columbia          3134.0\n9                Florida          9587.0\n10               Georgia          2556.0\n11                Hawaii          2399.0\n12                 Idaho           715.0\n13              Illinois          3891.0\n14               Indiana          1482.0\n15                  Iowa          1038.0\n16                Kansas           773.0\n17              Kentucky           953.0\n18             Louisiana           519.0\n19                 Maine          1066.0\n20              Maryland          2230.0\n21         Massachusetts         13257.0\n22              Michigan          3142.0\n23             Minnesota          3250.0\n24           Mississippi           328.0\n25              Missouri          2107.0\n26               Montana           422.0\n27              Nebraska           676.0\n28                Nevada           486.0\n29         New Hampshire           615.0\n30            New Jersey          3350.0\n31            New Mexico           602.0\n32              New York         52070.0\n33        North Carolina          2817.0\n34          North Dakota            75.0\n35                  Ohio          3320.0\n36              Oklahoma          1048.0\n37                Oregon          3337.0\n38          Pennsylvania          5349.0\n39          Rhode Island           354.0\n40        South Carolina           851.0\n41          South Dakota           323.0\n42             Tennessee          1744.0\n43                 Texas          6111.0\n44                  Utah           972.0\n45               Vermont           511.0\n46              Virginia          2047.0\n47            Washington          5880.0\n48         West Virginia           222.0\n49             Wisconsin          2167.0\n50               Wyoming           205.0",
      "text/html": "<div>\n<style scoped>\n    .dataframe tbody tr th:only-of-type {\n        vertical-align: middle;\n    }\n\n    .dataframe tbody tr th {\n        vertical-align: top;\n    }\n\n    .dataframe thead th {\n        text-align: right;\n    }\n</style>\n<table border=\"1\" class=\"dataframe\">\n  <thead>\n    <tr style=\"text-align: right;\">\n      <th></th>\n      <th>state</th>\n      <th>family_members</th>\n    </tr>\n  </thead>\n  <tbody>\n    <tr>\n      <th>0</th>\n      <td>Alabama</td>\n      <td>864.0</td>\n    </tr>\n    <tr>\n      <th>1</th>\n      <td>Alaska</td>\n      <td>582.0</td>\n    </tr>\n    <tr>\n      <th>2</th>\n      <td>Arizona</td>\n      <td>2606.0</td>\n    </tr>\n    <tr>\n      <th>3</th>\n      <td>Arkansas</td>\n      <td>432.0</td>\n    </tr>\n    <tr>\n      <th>4</th>\n      <td>California</td>\n      <td>20964.0</td>\n    </tr>\n    <tr>\n      <th>5</th>\n      <td>Colorado</td>\n      <td>3250.0</td>\n    </tr>\n    <tr>\n      <th>6</th>\n      <td>Connecticut</td>\n      <td>1696.0</td>\n    </tr>\n    <tr>\n      <th>7</th>\n      <td>Delaware</td>\n      <td>374.0</td>\n    </tr>\n    <tr>\n      <th>8</th>\n      <td>District of Columbia</td>\n      <td>3134.0</td>\n    </tr>\n    <tr>\n      <th>9</th>\n      <td>Florida</td>\n      <td>9587.0</td>\n    </tr>\n    <tr>\n      <th>10</th>\n      <td>Georgia</td>\n      <td>2556.0</td>\n    </tr>\n    <tr>\n      <th>11</th>\n      <td>Hawaii</td>\n      <td>2399.0</td>\n    </tr>\n    <tr>\n      <th>12</th>\n      <td>Idaho</td>\n      <td>715.0</td>\n    </tr>\n    <tr>\n      <th>13</th>\n      <td>Illinois</td>\n      <td>3891.0</td>\n    </tr>\n    <tr>\n      <th>14</th>\n      <td>Indiana</td>\n      <td>1482.0</td>\n    </tr>\n    <tr>\n      <th>15</th>\n      <td>Iowa</td>\n      <td>1038.0</td>\n    </tr>\n    <tr>\n      <th>16</th>\n      <td>Kansas</td>\n      <td>773.0</td>\n    </tr>\n    <tr>\n      <th>17</th>\n      <td>Kentucky</td>\n      <td>953.0</td>\n    </tr>\n    <tr>\n      <th>18</th>\n      <td>Louisiana</td>\n      <td>519.0</td>\n    </tr>\n    <tr>\n      <th>19</th>\n      <td>Maine</td>\n      <td>1066.0</td>\n    </tr>\n    <tr>\n      <th>20</th>\n      <td>Maryland</td>\n      <td>2230.0</td>\n    </tr>\n    <tr>\n      <th>21</th>\n      <td>Massachusetts</td>\n      <td>13257.0</td>\n    </tr>\n    <tr>\n      <th>22</th>\n      <td>Michigan</td>\n      <td>3142.0</td>\n    </tr>\n    <tr>\n      <th>23</th>\n      <td>Minnesota</td>\n      <td>3250.0</td>\n    </tr>\n    <tr>\n      <th>24</th>\n      <td>Mississippi</td>\n      <td>328.0</td>\n    </tr>\n    <tr>\n      <th>25</th>\n      <td>Missouri</td>\n      <td>2107.0</td>\n    </tr>\n    <tr>\n      <th>26</th>\n      <td>Montana</td>\n      <td>422.0</td>\n    </tr>\n    <tr>\n      <th>27</th>\n      <td>Nebraska</td>\n      <td>676.0</td>\n    </tr>\n    <tr>\n      <th>28</th>\n      <td>Nevada</td>\n      <td>486.0</td>\n    </tr>\n    <tr>\n      <th>29</th>\n      <td>New Hampshire</td>\n      <td>615.0</td>\n    </tr>\n    <tr>\n      <th>30</th>\n      <td>New Jersey</td>\n      <td>3350.0</td>\n    </tr>\n    <tr>\n      <th>31</th>\n      <td>New Mexico</td>\n      <td>602.0</td>\n    </tr>\n    <tr>\n      <th>32</th>\n      <td>New York</td>\n      <td>52070.0</td>\n    </tr>\n    <tr>\n      <th>33</th>\n      <td>North Carolina</td>\n      <td>2817.0</td>\n    </tr>\n    <tr>\n      <th>34</th>\n      <td>North Dakota</td>\n      <td>75.0</td>\n    </tr>\n    <tr>\n      <th>35</th>\n      <td>Ohio</td>\n      <td>3320.0</td>\n    </tr>\n    <tr>\n      <th>36</th>\n      <td>Oklahoma</td>\n      <td>1048.0</td>\n    </tr>\n    <tr>\n      <th>37</th>\n      <td>Oregon</td>\n      <td>3337.0</td>\n    </tr>\n    <tr>\n      <th>38</th>\n      <td>Pennsylvania</td>\n      <td>5349.0</td>\n    </tr>\n    <tr>\n      <th>39</th>\n      <td>Rhode Island</td>\n      <td>354.0</td>\n    </tr>\n    <tr>\n      <th>40</th>\n      <td>South Carolina</td>\n      <td>851.0</td>\n    </tr>\n    <tr>\n      <th>41</th>\n      <td>South Dakota</td>\n      <td>323.0</td>\n    </tr>\n    <tr>\n      <th>42</th>\n      <td>Tennessee</td>\n      <td>1744.0</td>\n    </tr>\n    <tr>\n      <th>43</th>\n      <td>Texas</td>\n      <td>6111.0</td>\n    </tr>\n    <tr>\n      <th>44</th>\n      <td>Utah</td>\n      <td>972.0</td>\n    </tr>\n    <tr>\n      <th>45</th>\n      <td>Vermont</td>\n      <td>511.0</td>\n    </tr>\n    <tr>\n      <th>46</th>\n      <td>Virginia</td>\n      <td>2047.0</td>\n    </tr>\n    <tr>\n      <th>47</th>\n      <td>Washington</td>\n      <td>5880.0</td>\n    </tr>\n    <tr>\n      <th>48</th>\n      <td>West Virginia</td>\n      <td>222.0</td>\n    </tr>\n    <tr>\n      <th>49</th>\n      <td>Wisconsin</td>\n      <td>2167.0</td>\n    </tr>\n    <tr>\n      <th>50</th>\n      <td>Wyoming</td>\n      <td>205.0</td>\n    </tr>\n  </tbody>\n</table>\n</div>"
     },
     "execution_count": 5,
     "metadata": {},
     "output_type": "execute_result"
    }
   ],
   "source": [
    "state_fam = homelessness[[\"state\", \"family_members\"]]\n",
    "state_fam"
   ],
   "metadata": {
    "collapsed": false,
    "pycharm": {
     "name": "#%%\n"
    }
   }
  },
  {
   "cell_type": "markdown",
   "source": [
    "Print the head of the result"
   ],
   "metadata": {
    "collapsed": false,
    "pycharm": {
     "name": "#%% md\n"
    }
   }
  },
  {
   "cell_type": "code",
   "execution_count": 6,
   "outputs": [
    {
     "name": "stdout",
     "output_type": "stream",
     "text": [
      "        state  family_members\n",
      "0     Alabama           864.0\n",
      "1      Alaska           582.0\n",
      "2     Arizona          2606.0\n",
      "3    Arkansas           432.0\n",
      "4  California         20964.0\n"
     ]
    }
   ],
   "source": [
    "print(state_fam.head())"
   ],
   "metadata": {
    "collapsed": false,
    "pycharm": {
     "name": "#%%\n"
    }
   }
  },
  {
   "cell_type": "markdown",
   "source": [
    "## Instructions 3/3\n",
    "* Create a DataFrame called `ind_state` that contains the `individuals` and `state` columns of `homelessness`, in that order.\n",
    "* Print the head of the result."
   ],
   "metadata": {
    "collapsed": false
   }
  },
  {
   "cell_type": "markdown",
   "source": [
    "Select only the individuals and state columns, in that order"
   ],
   "metadata": {
    "collapsed": false
   }
  },
  {
   "cell_type": "code",
   "execution_count": 7,
   "outputs": [
    {
     "data": {
      "text/plain": "    individuals                 state\n0        2570.0               Alabama\n1        1434.0                Alaska\n2        7259.0               Arizona\n3        2280.0              Arkansas\n4      109008.0            California\n5        7607.0              Colorado\n6        2280.0           Connecticut\n7         708.0              Delaware\n8        3770.0  District of Columbia\n9       21443.0               Florida\n10       6943.0               Georgia\n11       4131.0                Hawaii\n12       1297.0                 Idaho\n13       6752.0              Illinois\n14       3776.0               Indiana\n15       1711.0                  Iowa\n16       1443.0                Kansas\n17       2735.0              Kentucky\n18       2540.0             Louisiana\n19       1450.0                 Maine\n20       4914.0              Maryland\n21       6811.0         Massachusetts\n22       5209.0              Michigan\n23       3993.0             Minnesota\n24       1024.0           Mississippi\n25       3776.0              Missouri\n26        983.0               Montana\n27       1745.0              Nebraska\n28       7058.0                Nevada\n29        835.0         New Hampshire\n30       6048.0            New Jersey\n31       1949.0            New Mexico\n32      39827.0              New York\n33       6451.0        North Carolina\n34        467.0          North Dakota\n35       6929.0                  Ohio\n36       2823.0              Oklahoma\n37      11139.0                Oregon\n38       8163.0          Pennsylvania\n39        747.0          Rhode Island\n40       3082.0        South Carolina\n41        836.0          South Dakota\n42       6139.0             Tennessee\n43      19199.0                 Texas\n44       1904.0                  Utah\n45        780.0               Vermont\n46       3928.0              Virginia\n47      16424.0            Washington\n48       1021.0         West Virginia\n49       2740.0             Wisconsin\n50        434.0               Wyoming",
      "text/html": "<div>\n<style scoped>\n    .dataframe tbody tr th:only-of-type {\n        vertical-align: middle;\n    }\n\n    .dataframe tbody tr th {\n        vertical-align: top;\n    }\n\n    .dataframe thead th {\n        text-align: right;\n    }\n</style>\n<table border=\"1\" class=\"dataframe\">\n  <thead>\n    <tr style=\"text-align: right;\">\n      <th></th>\n      <th>individuals</th>\n      <th>state</th>\n    </tr>\n  </thead>\n  <tbody>\n    <tr>\n      <th>0</th>\n      <td>2570.0</td>\n      <td>Alabama</td>\n    </tr>\n    <tr>\n      <th>1</th>\n      <td>1434.0</td>\n      <td>Alaska</td>\n    </tr>\n    <tr>\n      <th>2</th>\n      <td>7259.0</td>\n      <td>Arizona</td>\n    </tr>\n    <tr>\n      <th>3</th>\n      <td>2280.0</td>\n      <td>Arkansas</td>\n    </tr>\n    <tr>\n      <th>4</th>\n      <td>109008.0</td>\n      <td>California</td>\n    </tr>\n    <tr>\n      <th>5</th>\n      <td>7607.0</td>\n      <td>Colorado</td>\n    </tr>\n    <tr>\n      <th>6</th>\n      <td>2280.0</td>\n      <td>Connecticut</td>\n    </tr>\n    <tr>\n      <th>7</th>\n      <td>708.0</td>\n      <td>Delaware</td>\n    </tr>\n    <tr>\n      <th>8</th>\n      <td>3770.0</td>\n      <td>District of Columbia</td>\n    </tr>\n    <tr>\n      <th>9</th>\n      <td>21443.0</td>\n      <td>Florida</td>\n    </tr>\n    <tr>\n      <th>10</th>\n      <td>6943.0</td>\n      <td>Georgia</td>\n    </tr>\n    <tr>\n      <th>11</th>\n      <td>4131.0</td>\n      <td>Hawaii</td>\n    </tr>\n    <tr>\n      <th>12</th>\n      <td>1297.0</td>\n      <td>Idaho</td>\n    </tr>\n    <tr>\n      <th>13</th>\n      <td>6752.0</td>\n      <td>Illinois</td>\n    </tr>\n    <tr>\n      <th>14</th>\n      <td>3776.0</td>\n      <td>Indiana</td>\n    </tr>\n    <tr>\n      <th>15</th>\n      <td>1711.0</td>\n      <td>Iowa</td>\n    </tr>\n    <tr>\n      <th>16</th>\n      <td>1443.0</td>\n      <td>Kansas</td>\n    </tr>\n    <tr>\n      <th>17</th>\n      <td>2735.0</td>\n      <td>Kentucky</td>\n    </tr>\n    <tr>\n      <th>18</th>\n      <td>2540.0</td>\n      <td>Louisiana</td>\n    </tr>\n    <tr>\n      <th>19</th>\n      <td>1450.0</td>\n      <td>Maine</td>\n    </tr>\n    <tr>\n      <th>20</th>\n      <td>4914.0</td>\n      <td>Maryland</td>\n    </tr>\n    <tr>\n      <th>21</th>\n      <td>6811.0</td>\n      <td>Massachusetts</td>\n    </tr>\n    <tr>\n      <th>22</th>\n      <td>5209.0</td>\n      <td>Michigan</td>\n    </tr>\n    <tr>\n      <th>23</th>\n      <td>3993.0</td>\n      <td>Minnesota</td>\n    </tr>\n    <tr>\n      <th>24</th>\n      <td>1024.0</td>\n      <td>Mississippi</td>\n    </tr>\n    <tr>\n      <th>25</th>\n      <td>3776.0</td>\n      <td>Missouri</td>\n    </tr>\n    <tr>\n      <th>26</th>\n      <td>983.0</td>\n      <td>Montana</td>\n    </tr>\n    <tr>\n      <th>27</th>\n      <td>1745.0</td>\n      <td>Nebraska</td>\n    </tr>\n    <tr>\n      <th>28</th>\n      <td>7058.0</td>\n      <td>Nevada</td>\n    </tr>\n    <tr>\n      <th>29</th>\n      <td>835.0</td>\n      <td>New Hampshire</td>\n    </tr>\n    <tr>\n      <th>30</th>\n      <td>6048.0</td>\n      <td>New Jersey</td>\n    </tr>\n    <tr>\n      <th>31</th>\n      <td>1949.0</td>\n      <td>New Mexico</td>\n    </tr>\n    <tr>\n      <th>32</th>\n      <td>39827.0</td>\n      <td>New York</td>\n    </tr>\n    <tr>\n      <th>33</th>\n      <td>6451.0</td>\n      <td>North Carolina</td>\n    </tr>\n    <tr>\n      <th>34</th>\n      <td>467.0</td>\n      <td>North Dakota</td>\n    </tr>\n    <tr>\n      <th>35</th>\n      <td>6929.0</td>\n      <td>Ohio</td>\n    </tr>\n    <tr>\n      <th>36</th>\n      <td>2823.0</td>\n      <td>Oklahoma</td>\n    </tr>\n    <tr>\n      <th>37</th>\n      <td>11139.0</td>\n      <td>Oregon</td>\n    </tr>\n    <tr>\n      <th>38</th>\n      <td>8163.0</td>\n      <td>Pennsylvania</td>\n    </tr>\n    <tr>\n      <th>39</th>\n      <td>747.0</td>\n      <td>Rhode Island</td>\n    </tr>\n    <tr>\n      <th>40</th>\n      <td>3082.0</td>\n      <td>South Carolina</td>\n    </tr>\n    <tr>\n      <th>41</th>\n      <td>836.0</td>\n      <td>South Dakota</td>\n    </tr>\n    <tr>\n      <th>42</th>\n      <td>6139.0</td>\n      <td>Tennessee</td>\n    </tr>\n    <tr>\n      <th>43</th>\n      <td>19199.0</td>\n      <td>Texas</td>\n    </tr>\n    <tr>\n      <th>44</th>\n      <td>1904.0</td>\n      <td>Utah</td>\n    </tr>\n    <tr>\n      <th>45</th>\n      <td>780.0</td>\n      <td>Vermont</td>\n    </tr>\n    <tr>\n      <th>46</th>\n      <td>3928.0</td>\n      <td>Virginia</td>\n    </tr>\n    <tr>\n      <th>47</th>\n      <td>16424.0</td>\n      <td>Washington</td>\n    </tr>\n    <tr>\n      <th>48</th>\n      <td>1021.0</td>\n      <td>West Virginia</td>\n    </tr>\n    <tr>\n      <th>49</th>\n      <td>2740.0</td>\n      <td>Wisconsin</td>\n    </tr>\n    <tr>\n      <th>50</th>\n      <td>434.0</td>\n      <td>Wyoming</td>\n    </tr>\n  </tbody>\n</table>\n</div>"
     },
     "execution_count": 7,
     "metadata": {},
     "output_type": "execute_result"
    }
   ],
   "source": [
    "ind_state = homelessness[[\"individuals\", \"state\"]]\n",
    "ind_state"
   ],
   "metadata": {
    "collapsed": false,
    "pycharm": {
     "name": "#%%\n"
    }
   }
  },
  {
   "cell_type": "markdown",
   "source": [
    "Print the head of the result"
   ],
   "metadata": {
    "collapsed": false
   }
  },
  {
   "cell_type": "code",
   "execution_count": 8,
   "outputs": [
    {
     "name": "stdout",
     "output_type": "stream",
     "text": [
      "   individuals       state\n",
      "0       2570.0     Alabama\n",
      "1       1434.0      Alaska\n",
      "2       7259.0     Arizona\n",
      "3       2280.0    Arkansas\n",
      "4     109008.0  California\n"
     ]
    }
   ],
   "source": [
    "print(ind_state.head())"
   ],
   "metadata": {
    "collapsed": false,
    "pycharm": {
     "name": "#%%\n"
    }
   }
  },
  {
   "cell_type": "code",
   "execution_count": null,
   "outputs": [],
   "source": [],
   "metadata": {
    "collapsed": false,
    "pycharm": {
     "name": "#%%\n"
    }
   }
  }
 ],
 "metadata": {
  "kernelspec": {
   "display_name": "Python 3",
   "language": "python",
   "name": "python3"
  },
  "language_info": {
   "codemirror_mode": {
    "name": "ipython",
    "version": 2
   },
   "file_extension": ".py",
   "mimetype": "text/x-python",
   "name": "python",
   "nbconvert_exporter": "python",
   "pygments_lexer": "ipython2",
   "version": "2.7.6"
  }
 },
 "nbformat": 4,
 "nbformat_minor": 0
}