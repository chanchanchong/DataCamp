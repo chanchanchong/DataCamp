{
 "cells": [
  {
   "cell_type": "markdown",
   "source": [
    "### Exercise\n",
    "# Driving right (1)"
   ],
   "metadata": {
    "collapsed": false
   }
  },
  {
   "cell_type": "markdown",
   "source": [
    "Remember that `cars` dataset, containing the cars per 1000 people (`cars_per_cap`) and whether people drive right (`drives_right) for different countries (`country`)? The code that imports this data in CSV format into Python as a DataFrame is included in the script.\n",
    "\n",
    "In the video, you saw a step-by-step approach to filter observations from a DataFrame based on boolean arrays. Let's start simple and try to find all observations in `cars` where `drives_right` is `True`.\n",
    "\n",
    "`drives_right` is a boolean column, so you'll have to extract it as a Series and then use this boolean Series to select observations from `cars`."
   ],
   "metadata": {
    "collapsed": false,
    "pycharm": {
     "name": "#%% md\n"
    }
   }
  },
  {
   "cell_type": "markdown",
   "source": [
    "## Instructions\n",
    "* Extract the `drives_right` column as a *Pandas Series* and store it as `dr`.\n",
    "* Use `dr`, a boolean Series, to subset the `cars` DataFrame. Store the resulting selection in `sel`.\n",
    "* Print `sel`, and assert that `drives_right` is `True` for all observations."
   ],
   "metadata": {
    "collapsed": false
   }
  },
  {
   "cell_type": "markdown",
   "source": [
    "Import cars data"
   ],
   "metadata": {
    "collapsed": false
   }
  },
  {
   "cell_type": "code",
   "execution_count": 2,
   "outputs": [],
   "source": [
    "import pandas as pd\n",
    "cars = pd.read_csv('cars.csv', index_col=0)"
   ],
   "metadata": {
    "collapsed": false,
    "pycharm": {
     "name": "#%%\n"
    }
   }
  },
  {
   "cell_type": "markdown",
   "source": [
    "Extract the `drives_right` column as Series: dr"
   ],
   "metadata": {
    "collapsed": false
   }
  },
  {
   "cell_type": "code",
   "execution_count": 9,
   "outputs": [
    {
     "data": {
      "text/plain": "US      True\nAUS    False\nJAP    False\nIN     False\nRU      True\nMOR     True\nEG      True\nName: drives_right, dtype: bool"
     },
     "execution_count": 9,
     "metadata": {},
     "output_type": "execute_result"
    }
   ],
   "source": [
    "dr = cars['drives_right']\n",
    "dr"
   ],
   "metadata": {
    "collapsed": false,
    "pycharm": {
     "name": "#%%\n"
    }
   }
  },
  {
   "cell_type": "markdown",
   "source": [
    "Use dr to subset cars: sel"
   ],
   "metadata": {
    "collapsed": false
   }
  },
  {
   "cell_type": "code",
   "execution_count": 10,
   "outputs": [
    {
     "data": {
      "text/plain": "     cars_per_cap        country  drives_right\nUS            809  United States          True\nRU            200         Russia          True\nMOR            70        Morocco          True\nEG             45          Egypt          True",
      "text/html": "<div>\n<style scoped>\n    .dataframe tbody tr th:only-of-type {\n        vertical-align: middle;\n    }\n\n    .dataframe tbody tr th {\n        vertical-align: top;\n    }\n\n    .dataframe thead th {\n        text-align: right;\n    }\n</style>\n<table border=\"1\" class=\"dataframe\">\n  <thead>\n    <tr style=\"text-align: right;\">\n      <th></th>\n      <th>cars_per_cap</th>\n      <th>country</th>\n      <th>drives_right</th>\n    </tr>\n  </thead>\n  <tbody>\n    <tr>\n      <th>US</th>\n      <td>809</td>\n      <td>United States</td>\n      <td>True</td>\n    </tr>\n    <tr>\n      <th>RU</th>\n      <td>200</td>\n      <td>Russia</td>\n      <td>True</td>\n    </tr>\n    <tr>\n      <th>MOR</th>\n      <td>70</td>\n      <td>Morocco</td>\n      <td>True</td>\n    </tr>\n    <tr>\n      <th>EG</th>\n      <td>45</td>\n      <td>Egypt</td>\n      <td>True</td>\n    </tr>\n  </tbody>\n</table>\n</div>"
     },
     "execution_count": 10,
     "metadata": {},
     "output_type": "execute_result"
    }
   ],
   "source": [
    "sel = cars[dr]\n",
    "sel"
   ],
   "metadata": {
    "collapsed": false,
    "pycharm": {
     "name": "#%%\n"
    }
   }
  },
  {
   "cell_type": "markdown",
   "source": [
    "Print sel"
   ],
   "metadata": {
    "collapsed": false
   }
  },
  {
   "cell_type": "code",
   "execution_count": 11,
   "outputs": [
    {
     "name": "stdout",
     "output_type": "stream",
     "text": [
      "     cars_per_cap        country  drives_right\n",
      "US            809  United States          True\n",
      "RU            200         Russia          True\n",
      "MOR            70        Morocco          True\n",
      "EG             45          Egypt          True\n"
     ]
    }
   ],
   "source": [
    "print(sel)"
   ],
   "metadata": {
    "collapsed": false,
    "pycharm": {
     "name": "#%%\n"
    }
   }
  },
  {
   "cell_type": "code",
   "execution_count": null,
   "outputs": [],
   "source": [],
   "metadata": {
    "collapsed": false,
    "pycharm": {
     "name": "#%%\n"
    }
   }
  }
 ],
 "metadata": {
  "kernelspec": {
   "display_name": "Python 3",
   "language": "python",
   "name": "python3"
  },
  "language_info": {
   "codemirror_mode": {
    "name": "ipython",
    "version": 2
   },
   "file_extension": ".py",
   "mimetype": "text/x-python",
   "name": "python",
   "nbconvert_exporter": "python",
   "pygments_lexer": "ipython2",
   "version": "2.7.6"
  }
 },
 "nbformat": 4,
 "nbformat_minor": 0
}