{
 "cells": [
  {
   "cell_type": "markdown",
   "source": [
    "### Exercise\n",
    "# Add column (2)"
   ],
   "metadata": {
    "collapsed": false
   }
  },
  {
   "cell_type": "markdown",
   "source": [
    "Using `iterrows()` to iterate over every observation of a Pandas DataFrame is easy to understand, but not very efficient. On every iteration, you're creating a new Pandas Series.\n",
    "\n",
    "If you want to add a column to a DataFrame by calling a function on another column, the `iterrows()` method in combination with a `for` loop is not the preferred way to go. Instead, you'll want to use `apply()`.\n",
    "\n",
    "Compare the `iterrows()` version with the `apply()` version to get the same result in the `brics` DataFrame:"
   ],
   "metadata": {
    "collapsed": false,
    "pycharm": {
     "name": "#%% md\n"
    }
   }
  },
  {
   "cell_type": "code",
   "execution_count": 17,
   "outputs": [
    {
     "ename": "NameError",
     "evalue": "name 'brics' is not defined",
     "output_type": "error",
     "traceback": [
      "\u001B[1;31m---------------------------------------------------------------------------\u001B[0m",
      "\u001B[1;31mNameError\u001B[0m                                 Traceback (most recent call last)",
      "Input \u001B[1;32mIn [17]\u001B[0m, in \u001B[0;36m<module>\u001B[1;34m\u001B[0m\n\u001B[1;32m----> 1\u001B[0m \u001B[38;5;28;01mfor\u001B[39;00m lab, row \u001B[38;5;129;01min\u001B[39;00m \u001B[43mbrics\u001B[49m\u001B[38;5;241m.\u001B[39miterrows():\n\u001B[0;32m      2\u001B[0m     brics\u001B[38;5;241m.\u001B[39mloc[lab, \u001B[38;5;124m\"\u001B[39m\u001B[38;5;124mname_length\u001B[39m\u001B[38;5;124m\"\u001B[39m] \u001B[38;5;241m=\u001B[39m \u001B[38;5;28mlen\u001B[39m(row[\u001B[38;5;124m\"\u001B[39m\u001B[38;5;124mcountry\u001B[39m\u001B[38;5;124m\"\u001B[39m])\n",
      "\u001B[1;31mNameError\u001B[0m: name 'brics' is not defined"
     ]
    }
   ],
   "source": [
    "for lab, row in brics.iterrows():\n",
    "    brics.loc[lab, \"name_length\"] = len(row[\"country\"])\n",
    "\n",
    "brics[\"name_length\"] = brics[\"country\"].apply(len)"
   ],
   "metadata": {
    "collapsed": false,
    "pycharm": {
     "name": "#%%\n"
    }
   }
  },
  {
   "cell_type": "markdown",
   "source": [
    "We can do a similar thing to call the `upper()` method on every name in the `country` column. However, `upper() is a **method**, so we'll need a slightly different approach:"
   ],
   "metadata": {
    "collapsed": false
   }
  },
  {
   "cell_type": "markdown",
   "source": [
    "## Instructions\n",
    "* Replace the `for` loop with a one-liner that uses `.apply(str.upper). The call should give the same result: a column `COUNTRY` should be added to `cars`, containing an uppercase version of the country names.\n",
    "* As usual, print out `cars` to se the fruits of your hard labor."
   ],
   "metadata": {
    "collapsed": false
   }
  },
  {
   "cell_type": "markdown",
   "source": [
    "import cars data"
   ],
   "metadata": {
    "collapsed": false
   }
  },
  {
   "cell_type": "code",
   "execution_count": 14,
   "outputs": [],
   "source": [
    "import pandas as pd\n",
    "cars = pd.read_csv('cars.csv', index_col=0)"
   ],
   "metadata": {
    "collapsed": false,
    "pycharm": {
     "name": "#%%\n"
    }
   }
  },
  {
   "cell_type": "markdown",
   "source": [
    "Use .apply(str.upper)"
   ],
   "metadata": {
    "collapsed": false
   }
  },
  {
   "cell_type": "code",
   "execution_count": 15,
   "outputs": [],
   "source": [
    "cars[\"COUNTRY\"] = cars[\"country\"].apply(str.upper)"
   ],
   "metadata": {
    "collapsed": false,
    "pycharm": {
     "name": "#%%\n"
    }
   }
  },
  {
   "cell_type": "code",
   "execution_count": 16,
   "outputs": [
    {
     "name": "stdout",
     "output_type": "stream",
     "text": [
      "     cars_per_cap        country  drives_right        COUNTRY\n",
      "US            809  United States          True  UNITED STATES\n",
      "AUS           731      Australia         False      AUSTRALIA\n",
      "JAP           588          Japan         False          JAPAN\n",
      "IN             18          India         False          INDIA\n",
      "RU            200         Russia          True         RUSSIA\n",
      "MOR            70        Morocco          True        MOROCCO\n",
      "EG             45          Egypt          True          EGYPT\n"
     ]
    }
   ],
   "source": [
    "print(cars)"
   ],
   "metadata": {
    "collapsed": false,
    "pycharm": {
     "name": "#%%\n"
    }
   }
  },
  {
   "cell_type": "code",
   "execution_count": null,
   "outputs": [],
   "source": [],
   "metadata": {
    "collapsed": false,
    "pycharm": {
     "name": "#%%\n"
    }
   }
  }
 ],
 "metadata": {
  "kernelspec": {
   "display_name": "Python 3",
   "language": "python",
   "name": "python3"
  },
  "language_info": {
   "codemirror_mode": {
    "name": "ipython",
    "version": 2
   },
   "file_extension": ".py",
   "mimetype": "text/x-python",
   "name": "python",
   "nbconvert_exporter": "python",
   "pygments_lexer": "ipython2",
   "version": "2.7.6"
  }
 },
 "nbformat": 4,
 "nbformat_minor": 0
}