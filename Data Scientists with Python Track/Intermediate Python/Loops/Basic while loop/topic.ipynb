{
 "cells": [
  {
   "cell_type": "markdown",
   "source": [
    "### Exercise\n",
    "# Basic while loop"
   ],
   "metadata": {
    "collapsed": false
   }
  },
  {
   "cell_type": "markdown",
   "source": [
    "Below you can find the example from the video where the `error` variable, initially equal to `50.0`, is divided by 4 and printed out on every run:"
   ],
   "metadata": {
    "collapsed": false,
    "pycharm": {
     "name": "#%% md\n"
    }
   }
  },
  {
   "cell_type": "code",
   "execution_count": null,
   "outputs": [],
   "source": [
    "error = 50.0\n",
    "while error > 1:\n",
    "    error /= 4\n",
    "    print(error)"
   ],
   "metadata": {
    "collapsed": false,
    "pycharm": {
     "name": "#%%\n"
    }
   }
  },
  {
   "cell_type": "markdown",
   "source": [
    "This example will come in handy, because it's time to build a `while` loop yourself! We're going to code a `while` loop that implements a very basic control system for an [inverted pendulum](https://en.wikipedia.org/wiki/Inverted_pendulum). If there's an offset from standing perfectly straight, the `while` loop will incrementally fix this offset.\n",
    "\n",
    "Note that if your `while` loop takes too long to run, you might have made a mistake. In particular, remember to **indent** the contents of the loop using spaces or auto-indentation!"
   ],
   "metadata": {
    "collapsed": false
   }
  },
  {
   "cell_type": "markdown",
   "source": [
    "## Instructions\n",
    "* Create the variable `offset` with an initial value of `8`.\n",
    "* Code a `while` loop that keeps running as long as `offset` is not equal to 0. Inside the `while` loop:\n",
    "   * Print out the sentence \"correcting...\".\n",
    "   * Next, decrease the value of `offset` by 1. You can do this with `offset = offset - 1`.\n",
    "   * Finally, still within your loop, print out `offset` so you can see how it changes."
   ],
   "metadata": {
    "collapsed": false
   }
  },
  {
   "cell_type": "markdown",
   "source": [
    "Initialize offset"
   ],
   "metadata": {
    "collapsed": false
   }
  },
  {
   "cell_type": "code",
   "execution_count": 1,
   "outputs": [],
   "source": [
    "offset = 8"
   ],
   "metadata": {
    "collapsed": false,
    "pycharm": {
     "name": "#%%\n"
    }
   }
  },
  {
   "cell_type": "markdown",
   "source": [
    "Code the while loop"
   ],
   "metadata": {
    "collapsed": false
   }
  },
  {
   "cell_type": "code",
   "execution_count": 3,
   "outputs": [
    {
     "data": {
      "text/plain": "US     809\nAUS    731\nJAP    588\nIN      18\nRU     200\nMOR     70\nEG      45\nName: cars_per_cap, dtype: int64"
     },
     "execution_count": 3,
     "metadata": {},
     "output_type": "execute_result"
    }
   ],
   "source": [
    "while offset != 0:\n",
    "    print(\"correcting...\")\n",
    "    offset -= 1\n",
    "    print(offset)"
   ],
   "metadata": {
    "collapsed": false,
    "pycharm": {
     "name": "#%%\n"
    }
   }
  },
  {
   "cell_type": "code",
   "execution_count": 9,
   "outputs": [
    {
     "data": {
      "text/plain": "US      True\nAUS     True\nJAP     True\nIN     False\nRU     False\nMOR    False\nEG     False\nName: cars_per_cap, dtype: bool"
     },
     "execution_count": 9,
     "metadata": {},
     "output_type": "execute_result"
    }
   ],
   "source": [
    "many_cars =  cpc > 500\n",
    "many_cars"
   ],
   "metadata": {
    "collapsed": false,
    "pycharm": {
     "name": "#%%\n"
    }
   }
  },
  {
   "cell_type": "code",
   "execution_count": 10,
   "outputs": [
    {
     "data": {
      "text/plain": "     cars_per_cap        country  drives_right\nUS            809  United States          True\nAUS           731      Australia         False\nJAP           588          Japan         False",
      "text/html": "<div>\n<style scoped>\n    .dataframe tbody tr th:only-of-type {\n        vertical-align: middle;\n    }\n\n    .dataframe tbody tr th {\n        vertical-align: top;\n    }\n\n    .dataframe thead th {\n        text-align: right;\n    }\n</style>\n<table border=\"1\" class=\"dataframe\">\n  <thead>\n    <tr style=\"text-align: right;\">\n      <th></th>\n      <th>cars_per_cap</th>\n      <th>country</th>\n      <th>drives_right</th>\n    </tr>\n  </thead>\n  <tbody>\n    <tr>\n      <th>US</th>\n      <td>809</td>\n      <td>United States</td>\n      <td>True</td>\n    </tr>\n    <tr>\n      <th>AUS</th>\n      <td>731</td>\n      <td>Australia</td>\n      <td>False</td>\n    </tr>\n    <tr>\n      <th>JAP</th>\n      <td>588</td>\n      <td>Japan</td>\n      <td>False</td>\n    </tr>\n  </tbody>\n</table>\n</div>"
     },
     "execution_count": 10,
     "metadata": {},
     "output_type": "execute_result"
    }
   ],
   "source": [
    "car_maniac = cars[many_cars]\n",
    "car_maniac"
   ],
   "metadata": {
    "collapsed": false,
    "pycharm": {
     "name": "#%%\n"
    }
   }
  },
  {
   "cell_type": "markdown",
   "source": [],
   "metadata": {
    "collapsed": false
   }
  },
  {
   "cell_type": "code",
   "execution_count": 11,
   "outputs": [
    {
     "name": "stdout",
     "output_type": "stream",
     "text": [
      "     cars_per_cap        country  drives_right\n",
      "US            809  United States          True\n",
      "AUS           731      Australia         False\n",
      "JAP           588          Japan         False\n"
     ]
    }
   ],
   "source": [
    "print(cars[cars['cars_per_cap'] > 500])"
   ],
   "metadata": {
    "collapsed": false,
    "pycharm": {
     "name": "#%%\n"
    }
   }
  },
  {
   "cell_type": "code",
   "execution_count": null,
   "outputs": [],
   "source": [],
   "metadata": {
    "collapsed": false,
    "pycharm": {
     "name": "#%%\n"
    }
   }
  }
 ],
 "metadata": {
  "kernelspec": {
   "display_name": "Python 3",
   "language": "python",
   "name": "python3"
  },
  "language_info": {
   "codemirror_mode": {
    "name": "ipython",
    "version": 2
   },
   "file_extension": ".py",
   "mimetype": "text/x-python",
   "name": "python",
   "nbconvert_exporter": "python",
   "pygments_lexer": "ipython2",
   "version": "2.7.6"
  }
 },
 "nbformat": 4,
 "nbformat_minor": 0
}