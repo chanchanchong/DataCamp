{
 "cells": [
  {
   "cell_type": "markdown",
   "source": [
    "### Exercise\n",
    "# Build a histogram (2)"
   ],
   "metadata": {
    "collapsed": false
   }
  },
  {
   "cell_type": "markdown",
   "source": [
    "In the previous exercise, you didn't specify the number of bins. By default, Python sets the number of bins to 10 in that case. The number of bins is pretty important. Too few bins will oversimplify reality and won't show you the details. Too many bins will overcomplicate reality and won't show the bigger picture.\n",
    "\n",
    "To control the number of bins to divide your data in, you can set the `bins` argument.\n",
    "\n",
    "That's exactly what you'll do in this exercise. You'll be making two plots here. The code in the script already includes `plt.show()` and `plt.clf()` calls; `plt.show()` displays a plt; `plt.clf()` cleans it up again so you can start afresh.\n",
    "\n",
    "As before, `life_exp` is available and `matplotlib.pyplot` is imported as `plt`."
   ],
   "metadata": {
    "collapsed": false,
    "pycharm": {
     "name": "#%% md\n"
    }
   }
  },
  {
   "cell_type": "markdown",
   "source": [
    "### Instructions\n",
    "* Build a histogram of `life_exp`, with `5` bins. Can you tell which bin contains the most observations?\n",
    "* Build another histogram of `life_exp`, this time with `20` bins. Is this better?"
   ],
   "metadata": {
    "collapsed": false,
    "pycharm": {
     "name": "#%% md\n"
    }
   }
  },
  {
   "cell_type": "code",
   "execution_count": 1,
   "outputs": [],
   "source": [
    "import matplotlib.pyplot as plt\n",
    "life_exp = [43.828,\n",
    "            76.423,\n",
    "            72.301,\n",
    "            42.731,\n",
    "            75.32,\n",
    "            81.235,\n",
    "            79.829,\n",
    "            75.635,\n",
    "            64.062,\n",
    "            79.441,\n",
    "            56.728,\n",
    "            65.554,\n",
    "            74.852,\n",
    "            50.728,\n",
    "            72.39,\n",
    "            73.005,\n",
    "            52.295,\n",
    "            49.58,\n",
    "            59.723,\n",
    "            50.43,\n",
    "            80.653,\n",
    "            44.74100000000001,\n",
    "            50.651,\n",
    "            78.553,\n",
    "            72.961,\n",
    "            72.889,\n",
    "            65.152,\n",
    "            46.462,\n",
    "            55.322,\n",
    "            78.782,\n",
    "            48.328,\n",
    "            75.748,\n",
    "            78.273,\n",
    "            76.486,\n",
    "            78.332,\n",
    "            54.791,\n",
    "            72.235,\n",
    "            74.994,\n",
    "            71.33800000000001,\n",
    "            71.878,\n",
    "            51.57899999999999,\n",
    "            58.04,\n",
    "            52.947,\n",
    "            79.313,\n",
    "            80.657,\n",
    "            56.735,\n",
    "            59.448,\n",
    "            79.406,\n",
    "            60.022,\n",
    "            79.483,\n",
    "            70.259,\n",
    "            56.007,\n",
    "            46.388000000000005,\n",
    "            60.916,\n",
    "            70.19800000000001,\n",
    "            82.208,\n",
    "            73.33800000000001,\n",
    "            81.757,\n",
    "            64.69800000000001,\n",
    "            70.65,\n",
    "            70.964,\n",
    "            59.545,\n",
    "            78.885,\n",
    "            80.745,\n",
    "            80.546,\n",
    "            72.567,\n",
    "            82.603,\n",
    "            72.535,\n",
    "            54.11,\n",
    "            67.297,\n",
    "            78.623,\n",
    "            77.58800000000001,\n",
    "            71.993,\n",
    "            42.592,\n",
    "            45.678,\n",
    "            73.952,\n",
    "            59.443000000000005,\n",
    "            48.303,\n",
    "            74.241,\n",
    "            54.467,\n",
    "            64.164,\n",
    "            72.801,\n",
    "            76.195,\n",
    "            66.803,\n",
    "            74.543,\n",
    "            71.164,\n",
    "            42.082,\n",
    "            62.069,\n",
    "            52.906000000000006,\n",
    "            63.785,\n",
    "            79.762,\n",
    "            80.204,\n",
    "            72.899,\n",
    "            56.867,\n",
    "            46.859,\n",
    "            80.196,\n",
    "            75.64,\n",
    "            65.483,\n",
    "            75.53699999999999,\n",
    "            71.752,\n",
    "            71.421,\n",
    "            71.688,\n",
    "            75.563,\n",
    "            78.098,\n",
    "            78.74600000000001,\n",
    "            76.442,\n",
    "            72.476,\n",
    "            46.242,\n",
    "            65.528,\n",
    "            72.777,\n",
    "            63.062,\n",
    "            74.002,\n",
    "            42.568000000000005,\n",
    "            79.972,\n",
    "            74.663,\n",
    "            77.926,\n",
    "            48.159,\n",
    "            49.339,\n",
    "            80.941,\n",
    "            72.396,\n",
    "            58.556,\n",
    "            39.613,\n",
    "            80.884,\n",
    "            81.70100000000001,\n",
    "            74.143,\n",
    "            78.4,\n",
    "            52.517,\n",
    "            70.616,\n",
    "            58.42,\n",
    "            69.819,\n",
    "            73.923,\n",
    "            71.777,\n",
    "            51.542,\n",
    "            79.425,\n",
    "            78.242,\n",
    "            76.384,\n",
    "            73.747,\n",
    "            74.249,\n",
    "            73.422,\n",
    "            62.698,\n",
    "            42.38399999999999,\n",
    "            43.487]"
   ],
   "metadata": {
    "collapsed": false,
    "pycharm": {
     "name": "#%%\n"
    }
   }
  },
  {
   "cell_type": "markdown",
   "source": [
    "Build histogram with 5 bins"
   ],
   "metadata": {
    "collapsed": false
   }
  },
  {
   "cell_type": "code",
   "execution_count": 2,
   "outputs": [
    {
     "data": {
      "text/plain": "(array([15., 20., 18., 38., 51.]),\n array([39.613, 48.211, 56.809, 65.407, 74.005, 82.603]),\n <BarContainer object of 5 artists>)"
     },
     "execution_count": 2,
     "metadata": {},
     "output_type": "execute_result"
    },
    {
     "data": {
      "text/plain": "<Figure size 432x288 with 1 Axes>",
      "image/png": "[encoded data removed]"
     },
     "metadata": {
      "needs_background": "light"
     },
     "output_type": "display_data"
    }
   ],
   "source": [
    "plt.hist(life_exp, 5)"
   ],
   "metadata": {
    "collapsed": false,
    "pycharm": {
     "name": "#%%\n"
    }
   }
  },
  {
   "cell_type": "markdown",
   "source": [
    "Show and clean up plot"
   ],
   "metadata": {
    "collapsed": false
   }
  },
  {
   "cell_type": "code",
   "execution_count": 3,
   "outputs": [],
   "source": [
    "plt.show()\n",
    "plt.clf()"
   ],
   "metadata": {
    "collapsed": false,
    "pycharm": {
     "name": "#%%\n"
    }
   }
  },
  {
   "cell_type": "markdown",
   "source": [
    "Build histogram with 20 bins"
   ],
   "metadata": {
    "collapsed": false
   }
  },
  {
   "cell_type": "code",
   "execution_count": null,
   "outputs": [],
   "source": [
    "plt.hist(life_exp, 20)"
   ],
   "metadata": {
    "collapsed": false,
    "pycharm": {
     "name": "#%%\n"
    }
   }
  },
  {
   "cell_type": "markdown",
   "source": [
    "Show and clean up again"
   ],
   "metadata": {
    "collapsed": false
   }
  },
  {
   "cell_type": "code",
   "execution_count": null,
   "outputs": [],
   "source": [
    "plt.show()\n",
    "plt.clf()"
   ],
   "metadata": {
    "collapsed": false,
    "pycharm": {
     "name": "#%%\n"
    }
   }
  }
 ],
 "metadata": {
  "kernelspec": {
   "display_name": "Python 3",
   "language": "python",
   "name": "python3"
  },
  "language_info": {
   "codemirror_mode": {
    "name": "ipython",
    "version": 2
   },
   "file_extension": ".py",
   "mimetype": "text/x-python",
   "name": "python",
   "nbconvert_exporter": "python",
   "pygments_lexer": "ipython2",
   "version": "2.7.6"
  }
 },
 "nbformat": 4,
 "nbformat_minor": 0
}