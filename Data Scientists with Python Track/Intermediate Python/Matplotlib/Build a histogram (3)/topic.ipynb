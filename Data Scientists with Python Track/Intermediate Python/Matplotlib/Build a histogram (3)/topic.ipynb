{
 "cells": [
  {
   "cell_type": "markdown",
   "source": [
    "### Exercise\n",
    "# Build a histogram (3): compare"
   ],
   "metadata": {
    "collapsed": false
   }
  },
  {
   "cell_type": "markdown",
   "source": [
    "In the video, you saw population pyramids for the present day and for the future. Because we were using a histogram. it was very easy to make a comparison.\n",
    "\n",
    "Let's do a similar comparison. `life_exp` contains life expectancy data for different countries in 2007. You also have access to a second list now. `life_exp1950`, containing similar data for 1950. Can you make a histogram for both datasets?\n",
    "\n",
    "You'll again be making two plots. The `plt.show()` and `plt.clf()` commands to render everything nicely are already included. Also `matploylib.pyplot` is imported for you, as `plt`."
   ],
   "metadata": {
    "collapsed": false,
    "pycharm": {
     "name": "#%% md\n"
    }
   }
  },
  {
   "cell_type": "markdown",
   "source": [
    "### Instructions\n",
    "* Build a histogram of `life_exp` with `15` bins.\n",
    "* Build a histogram of `life_exp1950`, also with `15` bins. Is there a big difference with the histogram for the 2007 data?"
   ],
   "metadata": {
    "collapsed": false,
    "pycharm": {
     "name": "#%% md\n"
    }
   }
  },
  {
   "cell_type": "code",
   "execution_count": 1,
   "outputs": [],
   "source": [
    "import matplotlib.pyplot as plt\n",
    "life_exp = [43.828,\n",
    "            76.423,\n",
    "            72.301,\n",
    "            42.731,\n",
    "            75.32,\n",
    "            81.235,\n",
    "            79.829,\n",
    "            75.635,\n",
    "            64.062,\n",
    "            79.441,\n",
    "            56.728,\n",
    "            65.554,\n",
    "            74.852,\n",
    "            50.728,\n",
    "            72.39,\n",
    "            73.005,\n",
    "            52.295,\n",
    "            49.58,\n",
    "            59.723,\n",
    "            50.43,\n",
    "            80.653,\n",
    "            44.74100000000001,\n",
    "            50.651,\n",
    "            78.553,\n",
    "            72.961,\n",
    "            72.889,\n",
    "            65.152,\n",
    "            46.462,\n",
    "            55.322,\n",
    "            78.782,\n",
    "            48.328,\n",
    "            75.748,\n",
    "            78.273,\n",
    "            76.486,\n",
    "            78.332,\n",
    "            54.791,\n",
    "            72.235,\n",
    "            74.994,\n",
    "            71.33800000000001,\n",
    "            71.878,\n",
    "            51.57899999999999,\n",
    "            58.04,\n",
    "            52.947,\n",
    "            79.313,\n",
    "            80.657,\n",
    "            56.735,\n",
    "            59.448,\n",
    "            79.406,\n",
    "            60.022,\n",
    "            79.483,\n",
    "            70.259,\n",
    "            56.007,\n",
    "            46.388000000000005,\n",
    "            60.916,\n",
    "            70.19800000000001,\n",
    "            82.208,\n",
    "            73.33800000000001,\n",
    "            81.757,\n",
    "            64.69800000000001,\n",
    "            70.65,\n",
    "            70.964,\n",
    "            59.545,\n",
    "            78.885,\n",
    "            80.745,\n",
    "            80.546,\n",
    "            72.567,\n",
    "            82.603,\n",
    "            72.535,\n",
    "            54.11,\n",
    "            67.297,\n",
    "            78.623,\n",
    "            77.58800000000001,\n",
    "            71.993,\n",
    "            42.592,\n",
    "            45.678,\n",
    "            73.952,\n",
    "            59.443000000000005,\n",
    "            48.303,\n",
    "            74.241,\n",
    "            54.467,\n",
    "            64.164,\n",
    "            72.801,\n",
    "            76.195,\n",
    "            66.803,\n",
    "            74.543,\n",
    "            71.164,\n",
    "            42.082,\n",
    "            62.069,\n",
    "            52.906000000000006,\n",
    "            63.785,\n",
    "            79.762,\n",
    "            80.204,\n",
    "            72.899,\n",
    "            56.867,\n",
    "            46.859,\n",
    "            80.196,\n",
    "            75.64,\n",
    "            65.483,\n",
    "            75.53699999999999,\n",
    "            71.752,\n",
    "            71.421,\n",
    "            71.688,\n",
    "            75.563,\n",
    "            78.098,\n",
    "            78.74600000000001,\n",
    "            76.442,\n",
    "            72.476,\n",
    "            46.242,\n",
    "            65.528,\n",
    "            72.777,\n",
    "            63.062,\n",
    "            74.002,\n",
    "            42.568000000000005,\n",
    "            79.972,\n",
    "            74.663,\n",
    "            77.926,\n",
    "            48.159,\n",
    "            49.339,\n",
    "            80.941,\n",
    "            72.396,\n",
    "            58.556,\n",
    "            39.613,\n",
    "            80.884,\n",
    "            81.70100000000001,\n",
    "            74.143,\n",
    "            78.4,\n",
    "            52.517,\n",
    "            70.616,\n",
    "            58.42,\n",
    "            69.819,\n",
    "            73.923,\n",
    "            71.777,\n",
    "            51.542,\n",
    "            79.425,\n",
    "            78.242,\n",
    "            76.384,\n",
    "            73.747,\n",
    "            74.249,\n",
    "            73.422,\n",
    "            62.698,\n",
    "            42.38399999999999,\n",
    "            43.487]\n",
    "life_exp1950 = [28.8,\n",
    "                55.23,\n",
    "                43.08,\n",
    "                30.02,\n",
    "                62.48,\n",
    "                69.12,\n",
    "                66.8,\n",
    "                50.94,\n",
    "                37.48,\n",
    "                68.0,\n",
    "                38.22,\n",
    "                40.41,\n",
    "                53.82,\n",
    "                47.62,\n",
    "                50.92,\n",
    "                59.6,\n",
    "                31.98,\n",
    "                39.03,\n",
    "                39.42,\n",
    "                38.52,\n",
    "                68.75,\n",
    "                35.46,\n",
    "                38.09,\n",
    "                54.74,\n",
    "                44.0,\n",
    "                50.64,\n",
    "                40.72,\n",
    "                39.14,\n",
    "                42.11,\n",
    "                57.21,\n",
    "                40.48,\n",
    "                61.21,\n",
    "                59.42,\n",
    "                66.87,\n",
    "                70.78,\n",
    "                34.81,\n",
    "                45.93,\n",
    "                48.36,\n",
    "                41.89,\n",
    "                45.26,\n",
    "                34.48,\n",
    "                35.93,\n",
    "                34.08,\n",
    "                66.55,\n",
    "                67.41,\n",
    "                37.0,\n",
    "                30.0,\n",
    "                67.5,\n",
    "                43.15,\n",
    "                65.86,\n",
    "                42.02,\n",
    "                33.61,\n",
    "                32.5,\n",
    "                37.58,\n",
    "                41.91,\n",
    "                60.96,\n",
    "                64.03,\n",
    "                72.49,\n",
    "                37.37,\n",
    "                37.47,\n",
    "                44.87,\n",
    "                45.32,\n",
    "                66.91,\n",
    "                65.39,\n",
    "                65.94,\n",
    "                58.53,\n",
    "                63.03,\n",
    "                43.16,\n",
    "                42.27,\n",
    "                50.06,\n",
    "                47.45,\n",
    "                55.56,\n",
    "                55.93,\n",
    "                42.14,\n",
    "                38.48,\n",
    "                42.72,\n",
    "                36.68,\n",
    "                36.26,\n",
    "                48.46,\n",
    "                33.68,\n",
    "                40.54,\n",
    "                50.99,\n",
    "                50.79,\n",
    "                42.24,\n",
    "                59.16,\n",
    "                42.87,\n",
    "                31.29,\n",
    "                36.32,\n",
    "                41.72,\n",
    "                36.16,\n",
    "                72.13,\n",
    "                69.39,\n",
    "                42.31,\n",
    "                37.44,\n",
    "                36.32,\n",
    "                72.67,\n",
    "                37.58,\n",
    "                43.44,\n",
    "                55.19,\n",
    "                62.65,\n",
    "                43.9,\n",
    "                47.75,\n",
    "                61.31,\n",
    "                59.82,\n",
    "                64.28,\n",
    "                52.72,\n",
    "                61.05,\n",
    "                40.0,\n",
    "                46.47,\n",
    "                39.88,\n",
    "                37.28,\n",
    "                58.0,\n",
    "                30.33,\n",
    "                60.4,\n",
    "                64.36,\n",
    "                65.57,\n",
    "                32.98,\n",
    "                45.01,\n",
    "                64.94,\n",
    "                57.59,\n",
    "                38.64,\n",
    "                41.41,\n",
    "                71.86,\n",
    "                69.62,\n",
    "                45.88,\n",
    "                58.5,\n",
    "                41.22,\n",
    "                50.85,\n",
    "                38.6,\n",
    "                59.1,\n",
    "                44.6,\n",
    "                43.58,\n",
    "                39.98,\n",
    "                69.18,\n",
    "                68.44,\n",
    "                66.07,\n",
    "                55.09,\n",
    "                40.41,\n",
    "                43.16,\n",
    "                32.55,\n",
    "                42.04,\n",
    "                48.45]"
   ],
   "metadata": {
    "collapsed": false,
    "pycharm": {
     "name": "#%%\n"
    }
   }
  },
  {
   "cell_type": "markdown",
   "source": [
    "Histogram of life_exp 15 bins"
   ],
   "metadata": {
    "collapsed": false
   }
  },
  {
   "cell_type": "code",
   "execution_count": 2,
   "outputs": [
    {
     "data": {
      "text/plain": "(array([ 3.,  6.,  6.,  7.,  6.,  7.,  7.,  4.,  7.,  5.,  6., 27., 18.,\n        17., 16.]),\n array([39.613, 42.479, 45.345, 48.211, 51.077, 53.943, 56.809, 59.675,\n        62.541, 65.407, 68.273, 71.139, 74.005, 76.871, 79.737, 82.603]),\n <BarContainer object of 15 artists>)"
     },
     "execution_count": 2,
     "metadata": {},
     "output_type": "execute_result"
    },
    {
     "data": {
      "text/plain": "<Figure size 432x288 with 1 Axes>",
      "image/png": "[encoded data removed]"
     },
     "metadata": {
      "needs_background": "light"
     },
     "output_type": "display_data"
    }
   ],
   "source": [
    "plt.hist(life_exp, 15)"
   ],
   "metadata": {
    "collapsed": false,
    "pycharm": {
     "name": "#%%\n"
    }
   }
  },
  {
   "cell_type": "markdown",
   "source": [
    "Show and clean up plot"
   ],
   "metadata": {
    "collapsed": false
   }
  },
  {
   "cell_type": "code",
   "execution_count": 4,
   "outputs": [
    {
     "data": {
      "text/plain": "<Figure size 432x288 with 0 Axes>"
     },
     "metadata": {},
     "output_type": "display_data"
    }
   ],
   "source": [
    "plt.show()\n",
    "plt.clf()"
   ],
   "metadata": {
    "collapsed": false,
    "pycharm": {
     "name": "#%%\n"
    }
   }
  },
  {
   "cell_type": "markdown",
   "source": [
    "Histogram of life_exp1950, 15 bins"
   ],
   "metadata": {
    "collapsed": false
   }
  },
  {
   "cell_type": "code",
   "execution_count": 5,
   "outputs": [
    {
     "data": {
      "text/plain": "(array([ 5.,  8., 14., 17., 20., 11.,  7.,  7.,  4.,  7.,  9.,  6., 11.,\n        11.,  5.]),\n array([28.8       , 31.72466667, 34.64933333, 37.574     , 40.49866667,\n        43.42333333, 46.348     , 49.27266667, 52.19733333, 55.122     ,\n        58.04666667, 60.97133333, 63.896     , 66.82066667, 69.74533333,\n        72.67      ]),\n <BarContainer object of 15 artists>)"
     },
     "execution_count": 5,
     "metadata": {},
     "output_type": "execute_result"
    },
    {
     "data": {
      "text/plain": "<Figure size 432x288 with 1 Axes>",
      "image/png": "[encoded data removed]"
     },
     "metadata": {
      "needs_background": "light"
     },
     "output_type": "display_data"
    }
   ],
   "source": [
    "plt.hist(life_exp1950, 15)"
   ],
   "metadata": {
    "collapsed": false,
    "pycharm": {
     "name": "#%%\n"
    }
   }
  },
  {
   "cell_type": "markdown",
   "source": [
    "Show and clean up again"
   ],
   "metadata": {
    "collapsed": false
   }
  },
  {
   "cell_type": "code",
   "execution_count": 6,
   "outputs": [
    {
     "data": {
      "text/plain": "<Figure size 432x288 with 0 Axes>"
     },
     "metadata": {},
     "output_type": "display_data"
    }
   ],
   "source": [
    "plt.show()\n",
    "plt.clf()"
   ],
   "metadata": {
    "collapsed": false,
    "pycharm": {
     "name": "#%%\n"
    }
   }
  },
  {
   "cell_type": "code",
   "execution_count": null,
   "outputs": [],
   "source": [],
   "metadata": {
    "collapsed": false,
    "pycharm": {
     "name": "#%%\n"
    }
   }
  }
 ],
 "metadata": {
  "kernelspec": {
   "display_name": "Python 3",
   "language": "python",
   "name": "python3"
  },
  "language_info": {
   "codemirror_mode": {
    "name": "ipython",
    "version": 2
   },
   "file_extension": ".py",
   "mimetype": "text/x-python",
   "name": "python",
   "nbconvert_exporter": "python",
   "pygments_lexer": "ipython2",
   "version": "2.7.6"
  }
 },
 "nbformat": 4,
 "nbformat_minor": 0
}