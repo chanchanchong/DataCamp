{
 "cells": [
  {
   "cell_type": "markdown",
   "source": [
    "### Exercise\n",
    "# Scatter Plot (2)"
   ],
   "metadata": {
    "collapsed": false
   }
  },
  {
   "cell_type": "markdown",
   "source": [
    "In the previous exercise, you saw that the higher GDP usually corresponds to a higher life expectancy. In other words, there is a positive correlation.\n",
    "\n",
    "Do you think there's a relationship between population and life expectancy of a country? The list `life_exp` from the previous exercise is already available. In addition, now also `pop` is available, listing the corresponding populations for the countries in 2007. The populations are in millions of people."
   ],
   "metadata": {
    "collapsed": false,
    "pycharm": {
     "name": "#%% md\n"
    }
   }
  },
  {
   "cell_type": "markdown",
   "source": [
    "### Instructions\n",
    "* Start from scratch: import `matplotlib.pyplot` as `plt`.\n",
    "* Build a scatter plot, where `pop` is mapped on the horizontal axis, and `life_exp` is mapped on the vertical axis.\n",
    "* Finish the script with `plt.show()` to actually display the plot. Do you see a correlation?"
   ],
   "metadata": {
    "collapsed": false,
    "pycharm": {
     "name": "#%% md\n"
    }
   }
  },
  {
   "cell_type": "code",
   "execution_count": 3,
   "outputs": [],
   "source": [
    "life_exp = [43.828,\n",
    "            76.423,\n",
    "            72.301,\n",
    "            42.731,\n",
    "            75.32,\n",
    "            81.235,\n",
    "            79.829,\n",
    "            75.635,\n",
    "            64.062,\n",
    "            79.441,\n",
    "            56.728,\n",
    "            65.554,\n",
    "            74.852,\n",
    "            50.728,\n",
    "            72.39,\n",
    "            73.005,\n",
    "            52.295,\n",
    "            49.58,\n",
    "            59.723,\n",
    "            50.43,\n",
    "            80.653,\n",
    "            44.74100000000001,\n",
    "            50.651,\n",
    "            78.553,\n",
    "            72.961,\n",
    "            72.889,\n",
    "            65.152,\n",
    "            46.462,\n",
    "            55.322,\n",
    "            78.782,\n",
    "            48.328,\n",
    "            75.748,\n",
    "            78.273,\n",
    "            76.486,\n",
    "            78.332,\n",
    "            54.791,\n",
    "            72.235,\n",
    "            74.994,\n",
    "            71.33800000000001,\n",
    "            71.878,\n",
    "            51.57899999999999,\n",
    "            58.04,\n",
    "            52.947,\n",
    "            79.313,\n",
    "            80.657,\n",
    "            56.735,\n",
    "            59.448,\n",
    "            79.406,\n",
    "            60.022,\n",
    "            79.483,\n",
    "            70.259,\n",
    "            56.007,\n",
    "            46.388000000000005,\n",
    "            60.916,\n",
    "            70.19800000000001,\n",
    "            82.208,\n",
    "            73.33800000000001,\n",
    "            81.757,\n",
    "            64.69800000000001,\n",
    "            70.65,\n",
    "            70.964,\n",
    "            59.545,\n",
    "            78.885,\n",
    "            80.745,\n",
    "            80.546,\n",
    "            72.567,\n",
    "            82.603,\n",
    "            72.535,\n",
    "            54.11,\n",
    "            67.297,\n",
    "            78.623,\n",
    "            77.58800000000001,\n",
    "            71.993,\n",
    "            42.592,\n",
    "            45.678,\n",
    "            73.952,\n",
    "            59.443000000000005,\n",
    "            48.303,\n",
    "            74.241,\n",
    "            54.467,\n",
    "            64.164,\n",
    "            72.801,\n",
    "            76.195,\n",
    "            66.803,\n",
    "            74.543,\n",
    "            71.164,\n",
    "            42.082,\n",
    "            62.069,\n",
    "            52.906000000000006,\n",
    "            63.785,\n",
    "            79.762,\n",
    "            80.204,\n",
    "            72.899,\n",
    "            56.867,\n",
    "            46.859,\n",
    "            80.196,\n",
    "            75.64,\n",
    "            65.483,\n",
    "            75.53699999999999,\n",
    "            71.752,\n",
    "            71.421,\n",
    "            71.688,\n",
    "            75.563,\n",
    "            78.098,\n",
    "            78.74600000000001,\n",
    "            76.442,\n",
    "            72.476,\n",
    "            46.242,\n",
    "            65.528,\n",
    "            72.777,\n",
    "            63.062,\n",
    "            74.002,\n",
    "            42.568000000000005,\n",
    "            79.972,\n",
    "            74.663,\n",
    "            77.926,\n",
    "            48.159,\n",
    "            49.339,\n",
    "            80.941,\n",
    "            72.396,\n",
    "            58.556,\n",
    "            39.613,\n",
    "            80.884,\n",
    "            81.70100000000001,\n",
    "            74.143,\n",
    "            78.4,\n",
    "            52.517,\n",
    "            70.616,\n",
    "            58.42,\n",
    "            69.819,\n",
    "            73.923,\n",
    "            71.777,\n",
    "            51.542,\n",
    "            79.425,\n",
    "            78.242,\n",
    "            76.384,\n",
    "            73.747,\n",
    "            74.249,\n",
    "            73.422,\n",
    "            62.698,\n",
    "            42.38399999999999,\n",
    "            43.487]\n",
    "pop = [2.53,\n",
    "       2.57,\n",
    "       2.62,\n",
    "       2.67,\n",
    "       2.71,\n",
    "       2.76,\n",
    "       2.81,\n",
    "       2.86,\n",
    "       2.92,\n",
    "       2.97,\n",
    "       3.03,\n",
    "       3.08,\n",
    "       3.14,\n",
    "       3.2,\n",
    "       3.26,\n",
    "       3.33,\n",
    "       3.4,\n",
    "       3.47,\n",
    "       3.54,\n",
    "       3.62,\n",
    "       3.69,\n",
    "       3.77,\n",
    "       3.84,\n",
    "       3.92,\n",
    "       4.0,\n",
    "       4.07,\n",
    "       4.15,\n",
    "       4.22,\n",
    "       4.3,\n",
    "       4.37,\n",
    "       4.45,\n",
    "       4.53,\n",
    "       4.61,\n",
    "       4.69,\n",
    "       4.78,\n",
    "       4.86,\n",
    "       4.95,\n",
    "       5.05,\n",
    "       5.14,\n",
    "       5.23,\n",
    "       5.32,\n",
    "       5.41,\n",
    "       5.49,\n",
    "       5.58,\n",
    "       5.66,\n",
    "       5.74,\n",
    "       5.82,\n",
    "       5.9,\n",
    "       5.98,\n",
    "       6.05,\n",
    "       6.13,\n",
    "       6.2,\n",
    "       6.28,\n",
    "       6.36,\n",
    "       6.44,\n",
    "       6.51,\n",
    "       6.59,\n",
    "       6.67,\n",
    "       6.75,\n",
    "       6.83,\n",
    "       6.92,\n",
    "       7.0,\n",
    "       7.08,\n",
    "       7.16,\n",
    "       7.24,\n",
    "       7.32,\n",
    "       7.4,\n",
    "       7.48,\n",
    "       7.56,\n",
    "       7.64,\n",
    "       7.72,\n",
    "       7.79,\n",
    "       7.87,\n",
    "       7.94,\n",
    "       8.01,\n",
    "       8.08,\n",
    "       8.15,\n",
    "       8.22,\n",
    "       8.29,\n",
    "       8.36,\n",
    "       8.42,\n",
    "       8.49,\n",
    "       8.56,\n",
    "       8.62,\n",
    "       8.68,\n",
    "       8.74,\n",
    "       8.8,\n",
    "       8.86,\n",
    "       8.92,\n",
    "       8.98,\n",
    "       9.04,\n",
    "       9.09,\n",
    "       9.15,\n",
    "       9.2,\n",
    "       9.26,\n",
    "       9.31,\n",
    "       9.36,\n",
    "       9.41,\n",
    "       9.46,\n",
    "       9.5,\n",
    "       9.55,\n",
    "       9.6,\n",
    "       9.64,\n",
    "       9.68,\n",
    "       9.73,\n",
    "       9.77,\n",
    "       9.81,\n",
    "       9.85,\n",
    "       9.88,\n",
    "       9.92,\n",
    "       9.96,\n",
    "       9.99,\n",
    "       10.03,\n",
    "       10.06,\n",
    "       10.09,\n",
    "       10.13,\n",
    "       10.16,\n",
    "       10.19,\n",
    "       10.22,\n",
    "       10.25,\n",
    "       10.28,\n",
    "       10.31,\n",
    "       10.33,\n",
    "       10.36,\n",
    "       10.38,\n",
    "       10.41,\n",
    "       10.43,\n",
    "       10.46,\n",
    "       10.48,\n",
    "       10.5,\n",
    "       10.52,\n",
    "       10.55,\n",
    "       10.57,\n",
    "       10.59,\n",
    "       10.61,\n",
    "       10.63,\n",
    "       10.65,\n",
    "       10.66,\n",
    "       10.68,\n",
    "       10.7,\n",
    "       10.72,\n",
    "       10.73,\n",
    "       10.75,\n",
    "       10.77,\n",
    "       10.78,\n",
    "       10.79,\n",
    "       10.81,\n",
    "       10.82,\n",
    "       10.83,\n",
    "       10.84,\n",
    "       10.85]"
   ],
   "metadata": {
    "collapsed": false,
    "pycharm": {
     "name": "#%%\n"
    }
   }
  },
  {
   "cell_type": "markdown",
   "source": [
    "Import package"
   ],
   "metadata": {
    "collapsed": false
   }
  },
  {
   "cell_type": "code",
   "execution_count": 4,
   "outputs": [],
   "source": [
    "import matplotlib.pyplot as plt"
   ],
   "metadata": {
    "collapsed": false,
    "pycharm": {
     "name": "#%%\n"
    }
   }
  },
  {
   "cell_type": "markdown",
   "source": [
    "Build Scatter plot"
   ],
   "metadata": {
    "collapsed": false
   }
  },
  {
   "cell_type": "code",
   "execution_count": 5,
   "outputs": [
    {
     "data": {
      "text/plain": "<matplotlib.collections.PathCollection at 0x197504db8e0>"
     },
     "execution_count": 5,
     "metadata": {},
     "output_type": "execute_result"
    },
    {
     "data": {
      "text/plain": "<Figure size 432x288 with 1 Axes>",
      "image/png": "[encoded data removed]"
     },
     "metadata": {
      "needs_background": "light"
     },
     "output_type": "display_data"
    }
   ],
   "source": [
    "plt.scatter(pop, life_exp)"
   ],
   "metadata": {
    "collapsed": false,
    "pycharm": {
     "name": "#%%\n"
    }
   }
  },
  {
   "cell_type": "markdown",
   "source": [
    "Show plot"
   ],
   "metadata": {
    "collapsed": false
   }
  },
  {
   "cell_type": "code",
   "execution_count": 6,
   "outputs": [],
   "source": [
    "plt.show()"
   ],
   "metadata": {
    "collapsed": false,
    "pycharm": {
     "name": "#%%\n"
    }
   }
  }
 ],
 "metadata": {
  "kernelspec": {
   "display_name": "Python 3",
   "language": "python",
   "name": "python3"
  },
  "language_info": {
   "codemirror_mode": {
    "name": "ipython",
    "version": 2
   },
   "file_extension": ".py",
   "mimetype": "text/x-python",
   "name": "python",
   "nbconvert_exporter": "python",
   "pygments_lexer": "ipython2",
   "version": "2.7.6"
  }
 },
 "nbformat": 4,
 "nbformat_minor": 0
}