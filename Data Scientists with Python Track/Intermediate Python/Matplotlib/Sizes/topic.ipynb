{
 "cells": [
  {
   "cell_type": "markdown",
   "source": [
    "### Exercise\n",
    "# Sizes"
   ],
   "metadata": {
    "collapsed": false
   }
  },
  {
   "cell_type": "markdown",
   "source": [
    "Right now, the scatter plot is just a cloud of blue dots, indistinguishable from each other. Let's change this. Wouldn't it be nice if the size of the dots corresponds to the population?\n",
    "\n",
    "To accomplish this, there is a list `pop` loaded in your workspace. It contains population numbers for each country expressed in millions. You can see that this first is added to the scatter method, as the argument `s`, for size."
   ],
   "metadata": {
    "collapsed": false,
    "pycharm": {
     "name": "#%% md\n"
    }
   }
  },
  {
   "cell_type": "markdown",
   "source": [
    "### Instructions\n",
    "* Run the script to see how the plot changes.\n",
    "* Looks good, but increasing the size of the bubbles will make things stand out more.\n",
    "  * Import the `numpy` packages as np.\n",
    "  * Use `np.array()` to create a numpy array from the list `pop`. Call this NumPy array `np_pop`.\n",
    "  * Double the values in `np_pop` setting the value of `np_pop` equal to `np_pop * 2`. Because `np_pop` is a NumPy array, each array element will be doubled.\n",
    "  * Change the `s` argument inside `plt.scatter()` to be `np_pop` instead of `pop`."
   ],
   "metadata": {
    "collapsed": false,
    "pycharm": {
     "name": "#%% md\n"
    }
   }
  },
  {
   "cell_type": "code",
   "execution_count": 1,
   "outputs": [],
   "source": [
    "import matplotlib.pyplot as plt\n",
    "pop = [31.889923,\n",
    "       3.600523,\n",
    "       33.333216,\n",
    "       12.420476,\n",
    "       40.301927,\n",
    "       20.434176,\n",
    "       8.199783,\n",
    "       0.708573,\n",
    "       150.448339,\n",
    "       10.392226,\n",
    "       8.078314,\n",
    "       9.119152,\n",
    "       4.552198,\n",
    "       1.639131,\n",
    "       190.010647,\n",
    "       7.322858,\n",
    "       14.326203,\n",
    "       8.390505,\n",
    "       14.131858,\n",
    "       17.696293,\n",
    "       33.390141,\n",
    "       4.369038,\n",
    "       10.238807,\n",
    "       16.284741,\n",
    "       1318.683096,\n",
    "       44.22755,\n",
    "       0.71096,\n",
    "       64.606759,\n",
    "       3.80061,\n",
    "       4.133884,\n",
    "       18.013409,\n",
    "       4.493312,\n",
    "       11.416987,\n",
    "       10.228744,\n",
    "       5.46812,\n",
    "       0.496374,\n",
    "       9.319622,\n",
    "       13.75568,\n",
    "       80.264543,\n",
    "       6.939688,\n",
    "       0.551201,\n",
    "       4.906585,\n",
    "       76.511887,\n",
    "       5.23846,\n",
    "       61.083916,\n",
    "       1.454867,\n",
    "       1.688359,\n",
    "       82.400996,\n",
    "       22.873338,\n",
    "       10.70629,\n",
    "       12.572928,\n",
    "       9.947814,\n",
    "       1.472041,\n",
    "       8.502814,\n",
    "       7.483763,\n",
    "       6.980412,\n",
    "       9.956108,\n",
    "       0.301931,\n",
    "       1110.396331,\n",
    "       223.547,\n",
    "       69.45357,\n",
    "       27.499638,\n",
    "       4.109086,\n",
    "       6.426679,\n",
    "       58.147733,\n",
    "       2.780132,\n",
    "       127.467972,\n",
    "       6.053193,\n",
    "       35.610177,\n",
    "       23.301725,\n",
    "       49.04479,\n",
    "       2.505559,\n",
    "       3.921278,\n",
    "       2.012649,\n",
    "       3.193942,\n",
    "       6.036914,\n",
    "       19.167654,\n",
    "       13.327079,\n",
    "       24.821286,\n",
    "       12.031795,\n",
    "       3.270065,\n",
    "       1.250882,\n",
    "       108.700891,\n",
    "       2.874127,\n",
    "       0.684736,\n",
    "       33.757175,\n",
    "       19.951656,\n",
    "       47.76198,\n",
    "       2.05508,\n",
    "       28.90179,\n",
    "       16.570613,\n",
    "       4.115771,\n",
    "       5.675356,\n",
    "       12.894865,\n",
    "       135.031164,\n",
    "       4.627926,\n",
    "       3.204897,\n",
    "       169.270617,\n",
    "       3.242173,\n",
    "       6.667147,\n",
    "       28.674757,\n",
    "       91.077287,\n",
    "       38.518241,\n",
    "       10.642836,\n",
    "       3.942491,\n",
    "       0.798094,\n",
    "       22.276056,\n",
    "       8.860588,\n",
    "       0.199579,\n",
    "       27.601038,\n",
    "       12.267493,\n",
    "       10.150265,\n",
    "       6.144562,\n",
    "       4.553009,\n",
    "       5.447502,\n",
    "       2.009245,\n",
    "       9.118773,\n",
    "       43.997828,\n",
    "       40.448191,\n",
    "       20.378239,\n",
    "       42.292929,\n",
    "       1.133066,\n",
    "       9.031088,\n",
    "       7.554661,\n",
    "       19.314747,\n",
    "       23.174294,\n",
    "       38.13964,\n",
    "       65.068149,\n",
    "       5.701579,\n",
    "       1.056608,\n",
    "       10.276158,\n",
    "       71.158647,\n",
    "       29.170398,\n",
    "       60.776238,\n",
    "       301.139947,\n",
    "       3.447496,\n",
    "       26.084662,\n",
    "       85.262356,\n",
    "       4.018332,\n",
    "       22.211743,\n",
    "       11.746035,\n",
    "       12.311143]\n",
    "gdp_cap = [974.5803384,\n",
    "           5937.029525999999,\n",
    "           6223.367465,\n",
    "           4797.231267,\n",
    "           12779.37964,\n",
    "           34435.367439999995,\n",
    "           36126.4927,\n",
    "           29796.04834,\n",
    "           1391.253792,\n",
    "           33692.60508,\n",
    "           1441.284873,\n",
    "           3822.137084,\n",
    "           7446.298803,\n",
    "           12569.85177,\n",
    "           9065.800825,\n",
    "           10680.79282,\n",
    "           1217.032994,\n",
    "           430.0706916,\n",
    "           1713.778686,\n",
    "           2042.09524,\n",
    "           36319.23501,\n",
    "           706.016537,\n",
    "           1704.063724,\n",
    "           13171.63885,\n",
    "           4959.114854,\n",
    "           7006.580419,\n",
    "           986.1478792,\n",
    "           277.5518587,\n",
    "           3632.557798,\n",
    "           9645.06142,\n",
    "           1544.750112,\n",
    "           14619.222719999998,\n",
    "           8948.102923,\n",
    "           22833.30851,\n",
    "           35278.41874,\n",
    "           2082.4815670000003,\n",
    "           6025.374752000001,\n",
    "           6873.262326000001,\n",
    "           5581.180998,\n",
    "           5728.353514,\n",
    "           12154.08975,\n",
    "           641.3695236000001,\n",
    "           690.8055759,\n",
    "           33207.0844,\n",
    "           30470.0167,\n",
    "           13206.48452,\n",
    "           752.7497265,\n",
    "           32170.37442,\n",
    "           1327.60891,\n",
    "           27538.41188,\n",
    "           5186.050003,\n",
    "           942.6542111,\n",
    "           579.2317429999999,\n",
    "           1201.637154,\n",
    "           3548.3308460000003,\n",
    "           39724.97867,\n",
    "           18008.94444,\n",
    "           36180.78919,\n",
    "           2452.210407,\n",
    "           3540.651564,\n",
    "           11605.71449,\n",
    "           4471.061906,\n",
    "           40675.99635,\n",
    "           25523.2771,\n",
    "           28569.7197,\n",
    "           7320.880262000001,\n",
    "           31656.06806,\n",
    "           4519.461171,\n",
    "           1463.249282,\n",
    "           1593.06548,\n",
    "           23348.139730000003,\n",
    "           47306.98978,\n",
    "           10461.05868,\n",
    "           1569.331442,\n",
    "           414.5073415,\n",
    "           12057.49928,\n",
    "           1044.770126,\n",
    "           759.3499101,\n",
    "           12451.6558,\n",
    "           1042.581557,\n",
    "           1803.151496,\n",
    "           10956.99112,\n",
    "           11977.57496,\n",
    "           3095.7722710000003,\n",
    "           9253.896111,\n",
    "           3820.17523,\n",
    "           823.6856205,\n",
    "           944.0,\n",
    "           4811.060429,\n",
    "           1091.359778,\n",
    "           36797.93332,\n",
    "           25185.00911,\n",
    "           2749.320965,\n",
    "           619.6768923999999,\n",
    "           2013.977305,\n",
    "           49357.19017,\n",
    "           22316.19287,\n",
    "           2605.94758,\n",
    "           9809.185636,\n",
    "           4172.838464,\n",
    "           7408.905561,\n",
    "           3190.481016,\n",
    "           15389.924680000002,\n",
    "           20509.64777,\n",
    "           19328.70901,\n",
    "           7670.122558,\n",
    "           10808.47561,\n",
    "           863.0884639000001,\n",
    "           1598.435089,\n",
    "           21654.83194,\n",
    "           1712.472136,\n",
    "           9786.534714,\n",
    "           862.5407561000001,\n",
    "           47143.17964,\n",
    "           18678.31435,\n",
    "           25768.25759,\n",
    "           926.1410683,\n",
    "           9269.657808,\n",
    "           28821.0637,\n",
    "           3970.095407,\n",
    "           2602.394995,\n",
    "           4513.480643,\n",
    "           33859.74835,\n",
    "           37506.41907,\n",
    "           4184.548089,\n",
    "           28718.27684,\n",
    "           1107.482182,\n",
    "           7458.396326999999,\n",
    "           882.9699437999999,\n",
    "           18008.50924,\n",
    "           7092.923025,\n",
    "           8458.276384,\n",
    "           1056.380121,\n",
    "           33203.26128,\n",
    "           42951.65309,\n",
    "           10611.46299,\n",
    "           11415.80569,\n",
    "           2441.576404,\n",
    "           3025.349798,\n",
    "           2280.769906,\n",
    "           1271.211593,\n",
    "           469.70929810000007]\n",
    "life_exp = [43.828,\n",
    "            76.423,\n",
    "            72.301,\n",
    "            42.731,\n",
    "            75.32,\n",
    "            81.235,\n",
    "            79.829,\n",
    "            75.635,\n",
    "            64.062,\n",
    "            79.441,\n",
    "            56.728,\n",
    "            65.554,\n",
    "            74.852,\n",
    "            50.728,\n",
    "            72.39,\n",
    "            73.005,\n",
    "            52.295,\n",
    "            49.58,\n",
    "            59.723,\n",
    "            50.43,\n",
    "            80.653,\n",
    "            44.74100000000001,\n",
    "            50.651,\n",
    "            78.553,\n",
    "            72.961,\n",
    "            72.889,\n",
    "            65.152,\n",
    "            46.462,\n",
    "            55.322,\n",
    "            78.782,\n",
    "            48.328,\n",
    "            75.748,\n",
    "            78.273,\n",
    "            76.486,\n",
    "            78.332,\n",
    "            54.791,\n",
    "            72.235,\n",
    "            74.994,\n",
    "            71.33800000000001,\n",
    "            71.878,\n",
    "            51.57899999999999,\n",
    "            58.04,\n",
    "            52.947,\n",
    "            79.313,\n",
    "            80.657,\n",
    "            56.735,\n",
    "            59.448,\n",
    "            79.406,\n",
    "            60.022,\n",
    "            79.483,\n",
    "            70.259,\n",
    "            56.007,\n",
    "            46.388000000000005,\n",
    "            60.916,\n",
    "            70.19800000000001,\n",
    "            82.208,\n",
    "            73.33800000000001,\n",
    "            81.757,\n",
    "            64.69800000000001,\n",
    "            70.65,\n",
    "            70.964,\n",
    "            59.545,\n",
    "            78.885,\n",
    "            80.745,\n",
    "            80.546,\n",
    "            72.567,\n",
    "            82.603,\n",
    "            72.535,\n",
    "            54.11,\n",
    "            67.297,\n",
    "            78.623,\n",
    "            77.58800000000001,\n",
    "            71.993,\n",
    "            42.592,\n",
    "            45.678,\n",
    "            73.952,\n",
    "            59.443000000000005,\n",
    "            48.303,\n",
    "            74.241,\n",
    "            54.467,\n",
    "            64.164,\n",
    "            72.801,\n",
    "            76.195,\n",
    "            66.803,\n",
    "            74.543,\n",
    "            71.164,\n",
    "            42.082,\n",
    "            62.069,\n",
    "            52.906000000000006,\n",
    "            63.785,\n",
    "            79.762,\n",
    "            80.204,\n",
    "            72.899,\n",
    "            56.867,\n",
    "            46.859,\n",
    "            80.196,\n",
    "            75.64,\n",
    "            65.483,\n",
    "            75.53699999999999,\n",
    "            71.752,\n",
    "            71.421,\n",
    "            71.688,\n",
    "            75.563,\n",
    "            78.098,\n",
    "            78.74600000000001,\n",
    "            76.442,\n",
    "            72.476,\n",
    "            46.242,\n",
    "            65.528,\n",
    "            72.777,\n",
    "            63.062,\n",
    "            74.002,\n",
    "            42.568000000000005,\n",
    "            79.972,\n",
    "            74.663,\n",
    "            77.926,\n",
    "            48.159,\n",
    "            49.339,\n",
    "            80.941,\n",
    "            72.396,\n",
    "            58.556,\n",
    "            39.613,\n",
    "            80.884,\n",
    "            81.70100000000001,\n",
    "            74.143,\n",
    "            78.4,\n",
    "            52.517,\n",
    "            70.616,\n",
    "            58.42,\n",
    "            69.819,\n",
    "            73.923,\n",
    "            71.777,\n",
    "            51.542,\n",
    "            79.425,\n",
    "            78.242,\n",
    "            76.384,\n",
    "            73.747,\n",
    "            74.249,\n",
    "            73.422,\n",
    "            62.698,\n",
    "            42.38399999999999,\n",
    "            43.487]"
   ],
   "metadata": {
    "collapsed": false,
    "pycharm": {
     "name": "#%%\n"
    }
   }
  },
  {
   "cell_type": "markdown",
   "source": [
    "Import numpy as np"
   ],
   "metadata": {
    "collapsed": false
   }
  },
  {
   "cell_type": "code",
   "execution_count": 4,
   "outputs": [],
   "source": [
    "import numpy as np"
   ],
   "metadata": {
    "collapsed": false,
    "pycharm": {
     "name": "#%%\n"
    }
   }
  },
  {
   "cell_type": "markdown",
   "source": [
    "Store pop as a numpy array: np_pop"
   ],
   "metadata": {
    "collapsed": false
   }
  },
  {
   "cell_type": "code",
   "execution_count": 5,
   "outputs": [],
   "source": [
    "np_pop = np.array(pop)"
   ],
   "metadata": {
    "collapsed": false,
    "pycharm": {
     "name": "#%%\n"
    }
   }
  },
  {
   "cell_type": "markdown",
   "source": [
    "Double np_pop"
   ],
   "metadata": {
    "collapsed": false
   }
  },
  {
   "cell_type": "code",
   "execution_count": 6,
   "outputs": [
    {
     "data": {
      "text/plain": "array([6.37798460e+01, 7.20104600e+00, 6.66664320e+01, 2.48409520e+01,\n       8.06038540e+01, 4.08683520e+01, 1.63995660e+01, 1.41714600e+00,\n       3.00896678e+02, 2.07844520e+01, 1.61566280e+01, 1.82383040e+01,\n       9.10439600e+00, 3.27826200e+00, 3.80021294e+02, 1.46457160e+01,\n       2.86524060e+01, 1.67810100e+01, 2.82637160e+01, 3.53925860e+01,\n       6.67802820e+01, 8.73807600e+00, 2.04776140e+01, 3.25694820e+01,\n       2.63736619e+03, 8.84551000e+01, 1.42192000e+00, 1.29213518e+02,\n       7.60122000e+00, 8.26776800e+00, 3.60268180e+01, 8.98662400e+00,\n       2.28339740e+01, 2.04574880e+01, 1.09362400e+01, 9.92748000e-01,\n       1.86392440e+01, 2.75113600e+01, 1.60529086e+02, 1.38793760e+01,\n       1.10240200e+00, 9.81317000e+00, 1.53023774e+02, 1.04769200e+01,\n       1.22167832e+02, 2.90973400e+00, 3.37671800e+00, 1.64801992e+02,\n       4.57466760e+01, 2.14125800e+01, 2.51458560e+01, 1.98956280e+01,\n       2.94408200e+00, 1.70056280e+01, 1.49675260e+01, 1.39608240e+01,\n       1.99122160e+01, 6.03862000e-01, 2.22079266e+03, 4.47094000e+02,\n       1.38907140e+02, 5.49992760e+01, 8.21817200e+00, 1.28533580e+01,\n       1.16295466e+02, 5.56026400e+00, 2.54935944e+02, 1.21063860e+01,\n       7.12203540e+01, 4.66034500e+01, 9.80895800e+01, 5.01111800e+00,\n       7.84255600e+00, 4.02529800e+00, 6.38788400e+00, 1.20738280e+01,\n       3.83353080e+01, 2.66541580e+01, 4.96425720e+01, 2.40635900e+01,\n       6.54013000e+00, 2.50176400e+00, 2.17401782e+02, 5.74825400e+00,\n       1.36947200e+00, 6.75143500e+01, 3.99033120e+01, 9.55239600e+01,\n       4.11016000e+00, 5.78035800e+01, 3.31412260e+01, 8.23154200e+00,\n       1.13507120e+01, 2.57897300e+01, 2.70062328e+02, 9.25585200e+00,\n       6.40979400e+00, 3.38541234e+02, 6.48434600e+00, 1.33342940e+01,\n       5.73495140e+01, 1.82154574e+02, 7.70364820e+01, 2.12856720e+01,\n       7.88498200e+00, 1.59618800e+00, 4.45521120e+01, 1.77211760e+01,\n       3.99158000e-01, 5.52020760e+01, 2.45349860e+01, 2.03005300e+01,\n       1.22891240e+01, 9.10601800e+00, 1.08950040e+01, 4.01849000e+00,\n       1.82375460e+01, 8.79956560e+01, 8.08963820e+01, 4.07564780e+01,\n       8.45858580e+01, 2.26613200e+00, 1.80621760e+01, 1.51093220e+01,\n       3.86294940e+01, 4.63485880e+01, 7.62792800e+01, 1.30136298e+02,\n       1.14031580e+01, 2.11321600e+00, 2.05523160e+01, 1.42317294e+02,\n       5.83407960e+01, 1.21552476e+02, 6.02279894e+02, 6.89499200e+00,\n       5.21693240e+01, 1.70524712e+02, 8.03666400e+00, 4.44234860e+01,\n       2.34920700e+01, 2.46222860e+01])"
     },
     "execution_count": 6,
     "metadata": {},
     "output_type": "execute_result"
    }
   ],
   "source": [
    "np_pop * 2"
   ],
   "metadata": {
    "collapsed": false,
    "pycharm": {
     "name": "#%%\n"
    }
   }
  },
  {
   "cell_type": "markdown",
   "source": [
    "Update: set s argument to np_pop"
   ],
   "metadata": {
    "collapsed": false
   }
  },
  {
   "cell_type": "code",
   "execution_count": 7,
   "outputs": [
    {
     "data": {
      "text/plain": "<matplotlib.collections.PathCollection at 0x24a3d0c2cd0>"
     },
     "execution_count": 7,
     "metadata": {},
     "output_type": "execute_result"
    },
    {
     "data": {
      "text/plain": "<Figure size 432x288 with 1 Axes>",
      "image/png": "[encoded data removed]"
     },
     "metadata": {
      "needs_background": "light"
     },
     "output_type": "display_data"
    }
   ],
   "source": [
    "plt.scatter(gdp_cap, life_exp, s=pop)"
   ],
   "metadata": {
    "collapsed": false,
    "pycharm": {
     "name": "#%%\n"
    }
   }
  },
  {
   "cell_type": "markdown",
   "source": [
    "Previous customizations"
   ],
   "metadata": {
    "collapsed": false
   }
  },
  {
   "cell_type": "code",
   "execution_count": 18,
   "outputs": [],
   "source": [
    "plt.xscale('log')\n",
    "plt.xlabel('GDP per Capita [in USD]')\n",
    "plt.ylabel('Life Expectancy [in years]')\n",
    "plt.title('World Development in 2007')\n",
    "plt.xticks([1000, 10000, 100000],\n",
    "           ['1k', '10k', '100k'])\n"
   ],
   "metadata": {
    "collapsed": false,
    "pycharm": {
     "name": "#%%\n"
    }
   }
  },
  {
   "cell_type": "markdown",
   "source": [
    "Display the plot"
   ],
   "metadata": {
    "collapsed": false
   }
  },
  {
   "cell_type": "code",
   "execution_count": 18,
   "outputs": [],
   "source": [
    "plt.show()"
   ],
   "metadata": {
    "collapsed": false,
    "pycharm": {
     "name": "#%%\n"
    }
   }
  }
 ],
 "metadata": {
  "kernelspec": {
   "display_name": "Python 3",
   "language": "python",
   "name": "python3"
  },
  "language_info": {
   "codemirror_mode": {
    "name": "ipython",
    "version": 2
   },
   "file_extension": ".py",
   "mimetype": "text/x-python",
   "name": "python",
   "nbconvert_exporter": "python",
   "pygments_lexer": "ipython2",
   "version": "2.7.6"
  }
 },
 "nbformat": 4,
 "nbformat_minor": 0
}