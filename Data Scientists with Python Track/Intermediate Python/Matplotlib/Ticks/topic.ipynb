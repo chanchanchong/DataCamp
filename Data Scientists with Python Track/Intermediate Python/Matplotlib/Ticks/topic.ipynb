{
 "cells": [
  {
   "cell_type": "markdown",
   "source": [
    "### Exercise\n",
    "# Ticks"
   ],
   "metadata": {
    "collapsed": false
   }
  },
  {
   "cell_type": "markdown",
   "source": [
    "The customization you've coded up to now are available in the script, in a more concise form.\n",
    "\n",
    "In the video, Hugo has demonstrated how you could control the y-ticks by specifying two arguments:"
   ],
   "metadata": {
    "collapsed": false,
    "pycharm": {
     "name": "#%% md\n"
    }
   }
  },
  {
   "cell_type": "code",
   "execution_count": 12,
   "outputs": [
    {
     "data": {
      "text/plain": "([<matplotlib.axis.YTick at 0x2d48f8c6e50>,\n  <matplotlib.axis.YTick at 0x2d48f8c66d0>,\n  <matplotlib.axis.YTick at 0x2d48f8c5610>],\n [Text(0, 0, 'one'), Text(0, 1, 'two'), Text(0, 2, 'three')])"
     },
     "execution_count": 12,
     "metadata": {},
     "output_type": "execute_result"
    },
    {
     "data": {
      "text/plain": "<Figure size 432x288 with 1 Axes>",
      "image/png": "[encoded data removed]"
     },
     "metadata": {
      "needs_background": "light"
     },
     "output_type": "display_data"
    }
   ],
   "source": [
    "import matplotlib.pyplot as plt\n",
    "plt.yticks([0, 1, 2], [\"one\", \"two\", \"three\"])"
   ],
   "metadata": {
    "collapsed": false,
    "pycharm": {
     "name": "#%%\n"
    }
   }
  },
  {
   "cell_type": "markdown",
   "source": [
    "In this example, the ticks corresponding to the numbers 0, 1, and 2 will be replaced by *one*, *two*, *three*, respectively.\n",
    "\n",
    "Let's do a similar thing for the x-axis of your world development chart, with the `xticks()` function. The tick values `1000`, `10000`, and `100000` should be replaced by `1k`, `10k`, and `100k`. To this end, two lists have already been created for you: `tick_val` and `tick_lab`."
   ],
   "metadata": {
    "collapsed": false
   }
  },
  {
   "cell_type": "markdown",
   "source": [
    "### Instructions\n",
    "* Use `tick_val` and `tick_lab` as inputs to the `xticks()` function to make the plot more readable.\n",
    "* As usual, display the plot with `plt.show()` after you've added the customizations."
   ],
   "metadata": {
    "collapsed": false,
    "pycharm": {
     "name": "#%% md\n"
    }
   }
  },
  {
   "cell_type": "code",
   "execution_count": 13,
   "outputs": [],
   "source": [
    "import matplotlib.pyplot as plt\n",
    "life_exp = [43.828,\n",
    "            76.423,\n",
    "            72.301,\n",
    "            42.731,\n",
    "            75.32,\n",
    "            81.235,\n",
    "            79.829,\n",
    "            75.635,\n",
    "            64.062,\n",
    "            79.441,\n",
    "            56.728,\n",
    "            65.554,\n",
    "            74.852,\n",
    "            50.728,\n",
    "            72.39,\n",
    "            73.005,\n",
    "            52.295,\n",
    "            49.58,\n",
    "            59.723,\n",
    "            50.43,\n",
    "            80.653,\n",
    "            44.74100000000001,\n",
    "            50.651,\n",
    "            78.553,\n",
    "            72.961,\n",
    "            72.889,\n",
    "            65.152,\n",
    "            46.462,\n",
    "            55.322,\n",
    "            78.782,\n",
    "            48.328,\n",
    "            75.748,\n",
    "            78.273,\n",
    "            76.486,\n",
    "            78.332,\n",
    "            54.791,\n",
    "            72.235,\n",
    "            74.994,\n",
    "            71.33800000000001,\n",
    "            71.878,\n",
    "            51.57899999999999,\n",
    "            58.04,\n",
    "            52.947,\n",
    "            79.313,\n",
    "            80.657,\n",
    "            56.735,\n",
    "            59.448,\n",
    "            79.406,\n",
    "            60.022,\n",
    "            79.483,\n",
    "            70.259,\n",
    "            56.007,\n",
    "            46.388000000000005,\n",
    "            60.916,\n",
    "            70.19800000000001,\n",
    "            82.208,\n",
    "            73.33800000000001,\n",
    "            81.757,\n",
    "            64.69800000000001,\n",
    "            70.65,\n",
    "            70.964,\n",
    "            59.545,\n",
    "            78.885,\n",
    "            80.745,\n",
    "            80.546,\n",
    "            72.567,\n",
    "            82.603,\n",
    "            72.535,\n",
    "            54.11,\n",
    "            67.297,\n",
    "            78.623,\n",
    "            77.58800000000001,\n",
    "            71.993,\n",
    "            42.592,\n",
    "            45.678,\n",
    "            73.952,\n",
    "            59.443000000000005,\n",
    "            48.303,\n",
    "            74.241,\n",
    "            54.467,\n",
    "            64.164,\n",
    "            72.801,\n",
    "            76.195,\n",
    "            66.803,\n",
    "            74.543,\n",
    "            71.164,\n",
    "            42.082,\n",
    "            62.069,\n",
    "            52.906000000000006,\n",
    "            63.785,\n",
    "            79.762,\n",
    "            80.204,\n",
    "            72.899,\n",
    "            56.867,\n",
    "            46.859,\n",
    "            80.196,\n",
    "            75.64,\n",
    "            65.483,\n",
    "            75.53699999999999,\n",
    "            71.752,\n",
    "            71.421,\n",
    "            71.688,\n",
    "            75.563,\n",
    "            78.098,\n",
    "            78.74600000000001,\n",
    "            76.442,\n",
    "            72.476,\n",
    "            46.242,\n",
    "            65.528,\n",
    "            72.777,\n",
    "            63.062,\n",
    "            74.002,\n",
    "            42.568000000000005,\n",
    "            79.972,\n",
    "            74.663,\n",
    "            77.926,\n",
    "            48.159,\n",
    "            49.339,\n",
    "            80.941,\n",
    "            72.396,\n",
    "            58.556,\n",
    "            39.613,\n",
    "            80.884,\n",
    "            81.70100000000001,\n",
    "            74.143,\n",
    "            78.4,\n",
    "            52.517,\n",
    "            70.616,\n",
    "            58.42,\n",
    "            69.819,\n",
    "            73.923,\n",
    "            71.777,\n",
    "            51.542,\n",
    "            79.425,\n",
    "            78.242,\n",
    "            76.384,\n",
    "            73.747,\n",
    "            74.249,\n",
    "            73.422,\n",
    "            62.698,\n",
    "            42.38399999999999,\n",
    "            43.487]\n",
    "gdp_cap = [974.5803384,\n",
    "           5937.029525999999,\n",
    "           6223.367465,\n",
    "           4797.231267,\n",
    "           12779.37964,\n",
    "           34435.367439999995,\n",
    "           36126.4927,\n",
    "           29796.04834,\n",
    "           1391.253792,\n",
    "           33692.60508,\n",
    "           1441.284873,\n",
    "           3822.137084,\n",
    "           7446.298803,\n",
    "           12569.85177,\n",
    "           9065.800825,\n",
    "           10680.79282,\n",
    "           1217.032994,\n",
    "           430.0706916,\n",
    "           1713.778686,\n",
    "           2042.09524,\n",
    "           36319.23501,\n",
    "           706.016537,\n",
    "           1704.063724,\n",
    "           13171.63885,\n",
    "           4959.114854,\n",
    "           7006.580419,\n",
    "           986.1478792,\n",
    "           277.5518587,\n",
    "           3632.557798,\n",
    "           9645.06142,\n",
    "           1544.750112,\n",
    "           14619.222719999998,\n",
    "           8948.102923,\n",
    "           22833.30851,\n",
    "           35278.41874,\n",
    "           2082.4815670000003,\n",
    "           6025.374752000001,\n",
    "           6873.262326000001,\n",
    "           5581.180998,\n",
    "           5728.353514,\n",
    "           12154.08975,\n",
    "           641.3695236000001,\n",
    "           690.8055759,\n",
    "           33207.0844,\n",
    "           30470.0167,\n",
    "           13206.48452,\n",
    "           752.7497265,\n",
    "           32170.37442,\n",
    "           1327.60891,\n",
    "           27538.41188,\n",
    "           5186.050003,\n",
    "           942.6542111,\n",
    "           579.2317429999999,\n",
    "           1201.637154,\n",
    "           3548.3308460000003,\n",
    "           39724.97867,\n",
    "           18008.94444,\n",
    "           36180.78919,\n",
    "           2452.210407,\n",
    "           3540.651564,\n",
    "           11605.71449,\n",
    "           4471.061906,\n",
    "           40675.99635,\n",
    "           25523.2771,\n",
    "           28569.7197,\n",
    "           7320.880262000001,\n",
    "           31656.06806,\n",
    "           4519.461171,\n",
    "           1463.249282,\n",
    "           1593.06548,\n",
    "           23348.139730000003,\n",
    "           47306.98978,\n",
    "           10461.05868,\n",
    "           1569.331442,\n",
    "           414.5073415,\n",
    "           12057.49928,\n",
    "           1044.770126,\n",
    "           759.3499101,\n",
    "           12451.6558,\n",
    "           1042.581557,\n",
    "           1803.151496,\n",
    "           10956.99112,\n",
    "           11977.57496,\n",
    "           3095.7722710000003,\n",
    "           9253.896111,\n",
    "           3820.17523,\n",
    "           823.6856205,\n",
    "           944.0,\n",
    "           4811.060429,\n",
    "           1091.359778,\n",
    "           36797.93332,\n",
    "           25185.00911,\n",
    "           2749.320965,\n",
    "           619.6768923999999,\n",
    "           2013.977305,\n",
    "           49357.19017,\n",
    "           22316.19287,\n",
    "           2605.94758,\n",
    "           9809.185636,\n",
    "           4172.838464,\n",
    "           7408.905561,\n",
    "           3190.481016,\n",
    "           15389.924680000002,\n",
    "           20509.64777,\n",
    "           19328.70901,\n",
    "           7670.122558,\n",
    "           10808.47561,\n",
    "           863.0884639000001,\n",
    "           1598.435089,\n",
    "           21654.83194,\n",
    "           1712.472136,\n",
    "           9786.534714,\n",
    "           862.5407561000001,\n",
    "           47143.17964,\n",
    "           18678.31435,\n",
    "           25768.25759,\n",
    "           926.1410683,\n",
    "           9269.657808,\n",
    "           28821.0637,\n",
    "           3970.095407,\n",
    "           2602.394995,\n",
    "           4513.480643,\n",
    "           33859.74835,\n",
    "           37506.41907,\n",
    "           4184.548089,\n",
    "           28718.27684,\n",
    "           1107.482182,\n",
    "           7458.396326999999,\n",
    "           882.9699437999999,\n",
    "           18008.50924,\n",
    "           7092.923025,\n",
    "           8458.276384,\n",
    "           1056.380121,\n",
    "           33203.26128,\n",
    "           42951.65309,\n",
    "           10611.46299,\n",
    "           11415.80569,\n",
    "           2441.576404,\n",
    "           3025.349798,\n",
    "           2280.769906,\n",
    "           1271.211593,\n",
    "           469.70929810000007]"
   ],
   "metadata": {
    "collapsed": false,
    "pycharm": {
     "name": "#%%\n"
    }
   }
  },
  {
   "cell_type": "markdown",
   "source": [
    "Scatter plot"
   ],
   "metadata": {
    "collapsed": false
   }
  },
  {
   "cell_type": "code",
   "execution_count": 14,
   "outputs": [
    {
     "data": {
      "text/plain": "<matplotlib.collections.PathCollection at 0x2d4908f2c70>"
     },
     "execution_count": 14,
     "metadata": {},
     "output_type": "execute_result"
    },
    {
     "data": {
      "text/plain": "<Figure size 432x288 with 1 Axes>",
      "image/png": "[encoded data removed]"
     },
     "metadata": {
      "needs_background": "light"
     },
     "output_type": "display_data"
    }
   ],
   "source": [
    "plt.scatter(gdp_cap, life_exp)"
   ],
   "metadata": {
    "collapsed": false,
    "pycharm": {
     "name": "#%%\n"
    }
   }
  },
  {
   "cell_type": "markdown",
   "source": [
    "Previous customizations"
   ],
   "metadata": {
    "collapsed": false
   }
  },
  {
   "cell_type": "code",
   "execution_count": 15,
   "outputs": [
    {
     "data": {
      "text/plain": "Text(0.5, 1.0, 'World Development in 2007')"
     },
     "execution_count": 15,
     "metadata": {},
     "output_type": "execute_result"
    },
    {
     "data": {
      "text/plain": "<Figure size 432x288 with 1 Axes>",
      "image/png": "[encoded data removed]"
     },
     "metadata": {
      "needs_background": "light"
     },
     "output_type": "display_data"
    }
   ],
   "source": [
    "plt.xscale('log')\n",
    "plt.xlabel('GDP per Capita [in USD]')\n",
    "plt.ylabel('Life Expectancy [in years]')\n",
    "plt.title('World Development in 2007')"
   ],
   "metadata": {
    "collapsed": false,
    "pycharm": {
     "name": "#%%\n"
    }
   }
  },
  {
   "cell_type": "markdown",
   "source": [
    "Definition of tick_val and tick_lab"
   ],
   "metadata": {
    "collapsed": false
   }
  },
  {
   "cell_type": "code",
   "execution_count": 16,
   "outputs": [],
   "source": [
    "tick_val = [1000, 10000, 100000]\n",
    "tick_lab = ['1k', '10k', '100k']"
   ],
   "metadata": {
    "collapsed": false,
    "pycharm": {
     "name": "#%%\n"
    }
   }
  },
  {
   "cell_type": "markdown",
   "source": [
    "Adapt tha ticks on the x-axis"
   ],
   "metadata": {
    "collapsed": false
   }
  },
  {
   "cell_type": "code",
   "execution_count": 17,
   "outputs": [
    {
     "data": {
      "text/plain": "([<matplotlib.axis.XTick at 0x2d4909517f0>,\n  <matplotlib.axis.XTick at 0x2d490951130>,\n  <matplotlib.axis.XTick at 0x2d490998d00>],\n [Text(1000, 0, '1k'), Text(10000, 0, '10k'), Text(100000, 0, '100k')])"
     },
     "execution_count": 17,
     "metadata": {},
     "output_type": "execute_result"
    },
    {
     "data": {
      "text/plain": "<Figure size 432x288 with 1 Axes>",
      "image/png": "[encoded data removed]"
     },
     "metadata": {
      "needs_background": "light"
     },
     "output_type": "display_data"
    }
   ],
   "source": [
    "plt.xticks(tick_val, tick_lab)"
   ],
   "metadata": {
    "collapsed": false,
    "pycharm": {
     "name": "#%%\n"
    }
   }
  },
  {
   "cell_type": "markdown",
   "source": [
    "After customizing, display the plot"
   ],
   "metadata": {
    "collapsed": false
   }
  },
  {
   "cell_type": "code",
   "execution_count": 18,
   "outputs": [],
   "source": [
    "plt.show()"
   ],
   "metadata": {
    "collapsed": false,
    "pycharm": {
     "name": "#%%\n"
    }
   }
  },
  {
   "cell_type": "code",
   "execution_count": 18,
   "outputs": [],
   "source": [],
   "metadata": {
    "collapsed": false,
    "pycharm": {
     "name": "#%%\n"
    }
   }
  }
 ],
 "metadata": {
  "kernelspec": {
   "display_name": "Python 3",
   "language": "python",
   "name": "python3"
  },
  "language_info": {
   "codemirror_mode": {
    "name": "ipython",
    "version": 2
   },
   "file_extension": ".py",
   "mimetype": "text/x-python",
   "name": "python",
   "nbconvert_exporter": "python",
   "pygments_lexer": "ipython2",
   "version": "2.7.6"
  }
 },
 "nbformat": 4,
 "nbformat_minor": 0
}